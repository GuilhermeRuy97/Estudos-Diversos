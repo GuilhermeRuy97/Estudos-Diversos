{
  "nbformat": 4,
  "nbformat_minor": 0,
  "metadata": {
    "colab": {
      "name": "SQL_pandasql.ipynb",
      "provenance": [],
      "collapsed_sections": [
        "Qtq_ycVe9C1X",
        "UAvWopTKAEfW",
        "sD0ZKoUfBb7j",
        "F_rBHptbCOh-",
        "-RDaZLx6FiwT",
        "RBKtlBfHJgSZ",
        "fUGjgahMKcNg"
      ]
    },
    "kernelspec": {
      "name": "python3",
      "display_name": "Python 3"
    },
    "language_info": {
      "name": "python"
    }
  },
  "cells": [
    {
      "cell_type": "markdown",
      "source": [
        "# Utilizaçao do SQL através da biblioteca pandasql\n",
        "# Using pandasql to train SQL\n",
        "---\n",
        "Research fonts: \n",
        "1.   https://www.youtube.com/c/ritvikmath\n",
        "2.   https://pypi.org/project/pandasql/\n",
        "\n",
        "---"
      ],
      "metadata": {
        "id": "Qtq_ycVe9C1X"
      }
    },
    {
      "cell_type": "markdown",
      "source": [
        "# Import"
      ],
      "metadata": {
        "id": "UAvWopTKAEfW"
      }
    },
    {
      "cell_type": "code",
      "execution_count": 1,
      "metadata": {
        "id": "ya_2cVNj8-8n"
      },
      "outputs": [],
      "source": [
        "# Ambient configuration\n",
        "\n",
        "# $ pip install -U pandasql\n",
        "# !pip install pandasql"
      ]
    },
    {
      "cell_type": "code",
      "source": [
        "# Required libraries\n",
        "\n",
        "import pandas as pd          # used to read the DataFrame\n",
        "import numpy  as np          # used to create the DataFrame\n",
        "\n",
        "from pandasql import sqldf"
      ],
      "metadata": {
        "id": "0dkX5ESV_rpq"
      },
      "execution_count": 2,
      "outputs": []
    },
    {
      "cell_type": "markdown",
      "source": [
        "# Data"
      ],
      "metadata": {
        "id": "0CSB0yTRAAqc"
      }
    },
    {
      "cell_type": "markdown",
      "source": [
        "This dataframe was created from imaginary data of students in a certain classroom"
      ],
      "metadata": {
        "id": "xMlORXluAoIu"
      }
    },
    {
      "cell_type": "code",
      "source": [
        "data = {'aluno'       : ['João', 'Ribeiro', 'Evaldo', 'Isaias', 'Jessyca','Anne','Luiz'],    \n",
        "        'idade'       : ['20', '29', '22', '21', '35', '32', '40'],    \n",
        "        'cidade'      : ['São Paulo', 'São João', 'Pinhal', 'Mococa', 'Poços', 'Botelhos', 'Pinhal'],\n",
        "        'aniversario' : ['021004', '030220', np.nan, '000420', '871212', '000101', np.nan] }\n",
        "\n",
        "df = pd.DataFrame(data)"
      ],
      "metadata": {
        "id": "qmewTOmBAjNc"
      },
      "execution_count": 3,
      "outputs": []
    },
    {
      "cell_type": "code",
      "source": [
        "# Data type correction\n",
        "\n",
        "df['aniversario'] = pd.to_datetime( df['aniversario'], format = '%y%m%d' )\n",
        "df['idade'] = df['idade'].astype(int)"
      ],
      "metadata": {
        "id": "09_nuTULBKbT"
      },
      "execution_count": 4,
      "outputs": []
    },
    {
      "cell_type": "code",
      "source": [
        "df"
      ],
      "metadata": {
        "colab": {
          "base_uri": "https://localhost:8080/",
          "height": 269
        },
        "id": "ooXxuvCLBDKO",
        "outputId": "4885208e-c68f-43bd-afdd-93ffd247ed5e"
      },
      "execution_count": 5,
      "outputs": [
        {
          "output_type": "execute_result",
          "data": {
            "text/plain": [
              "     aluno  idade     cidade aniversario\n",
              "0     João     20  São Paulo  2002-10-04\n",
              "1  Ribeiro     29   São João  2003-02-20\n",
              "2   Evaldo     22     Pinhal         NaT\n",
              "3   Isaias     21     Mococa  2000-04-20\n",
              "4  Jessyca     35      Poços  1987-12-12\n",
              "5     Anne     32   Botelhos  2000-01-01\n",
              "6     Luiz     40     Pinhal         NaT"
            ],
            "text/html": [
              "\n",
              "  <div id=\"df-d32a5925-0e3f-407b-8932-d46d8b31984c\">\n",
              "    <div class=\"colab-df-container\">\n",
              "      <div>\n",
              "<style scoped>\n",
              "    .dataframe tbody tr th:only-of-type {\n",
              "        vertical-align: middle;\n",
              "    }\n",
              "\n",
              "    .dataframe tbody tr th {\n",
              "        vertical-align: top;\n",
              "    }\n",
              "\n",
              "    .dataframe thead th {\n",
              "        text-align: right;\n",
              "    }\n",
              "</style>\n",
              "<table border=\"1\" class=\"dataframe\">\n",
              "  <thead>\n",
              "    <tr style=\"text-align: right;\">\n",
              "      <th></th>\n",
              "      <th>aluno</th>\n",
              "      <th>idade</th>\n",
              "      <th>cidade</th>\n",
              "      <th>aniversario</th>\n",
              "    </tr>\n",
              "  </thead>\n",
              "  <tbody>\n",
              "    <tr>\n",
              "      <th>0</th>\n",
              "      <td>João</td>\n",
              "      <td>20</td>\n",
              "      <td>São Paulo</td>\n",
              "      <td>2002-10-04</td>\n",
              "    </tr>\n",
              "    <tr>\n",
              "      <th>1</th>\n",
              "      <td>Ribeiro</td>\n",
              "      <td>29</td>\n",
              "      <td>São João</td>\n",
              "      <td>2003-02-20</td>\n",
              "    </tr>\n",
              "    <tr>\n",
              "      <th>2</th>\n",
              "      <td>Evaldo</td>\n",
              "      <td>22</td>\n",
              "      <td>Pinhal</td>\n",
              "      <td>NaT</td>\n",
              "    </tr>\n",
              "    <tr>\n",
              "      <th>3</th>\n",
              "      <td>Isaias</td>\n",
              "      <td>21</td>\n",
              "      <td>Mococa</td>\n",
              "      <td>2000-04-20</td>\n",
              "    </tr>\n",
              "    <tr>\n",
              "      <th>4</th>\n",
              "      <td>Jessyca</td>\n",
              "      <td>35</td>\n",
              "      <td>Poços</td>\n",
              "      <td>1987-12-12</td>\n",
              "    </tr>\n",
              "    <tr>\n",
              "      <th>5</th>\n",
              "      <td>Anne</td>\n",
              "      <td>32</td>\n",
              "      <td>Botelhos</td>\n",
              "      <td>2000-01-01</td>\n",
              "    </tr>\n",
              "    <tr>\n",
              "      <th>6</th>\n",
              "      <td>Luiz</td>\n",
              "      <td>40</td>\n",
              "      <td>Pinhal</td>\n",
              "      <td>NaT</td>\n",
              "    </tr>\n",
              "  </tbody>\n",
              "</table>\n",
              "</div>\n",
              "      <button class=\"colab-df-convert\" onclick=\"convertToInteractive('df-d32a5925-0e3f-407b-8932-d46d8b31984c')\"\n",
              "              title=\"Convert this dataframe to an interactive table.\"\n",
              "              style=\"display:none;\">\n",
              "        \n",
              "  <svg xmlns=\"http://www.w3.org/2000/svg\" height=\"24px\"viewBox=\"0 0 24 24\"\n",
              "       width=\"24px\">\n",
              "    <path d=\"M0 0h24v24H0V0z\" fill=\"none\"/>\n",
              "    <path d=\"M18.56 5.44l.94 2.06.94-2.06 2.06-.94-2.06-.94-.94-2.06-.94 2.06-2.06.94zm-11 1L8.5 8.5l.94-2.06 2.06-.94-2.06-.94L8.5 2.5l-.94 2.06-2.06.94zm10 10l.94 2.06.94-2.06 2.06-.94-2.06-.94-.94-2.06-.94 2.06-2.06.94z\"/><path d=\"M17.41 7.96l-1.37-1.37c-.4-.4-.92-.59-1.43-.59-.52 0-1.04.2-1.43.59L10.3 9.45l-7.72 7.72c-.78.78-.78 2.05 0 2.83L4 21.41c.39.39.9.59 1.41.59.51 0 1.02-.2 1.41-.59l7.78-7.78 2.81-2.81c.8-.78.8-2.07 0-2.86zM5.41 20L4 18.59l7.72-7.72 1.47 1.35L5.41 20z\"/>\n",
              "  </svg>\n",
              "      </button>\n",
              "      \n",
              "  <style>\n",
              "    .colab-df-container {\n",
              "      display:flex;\n",
              "      flex-wrap:wrap;\n",
              "      gap: 12px;\n",
              "    }\n",
              "\n",
              "    .colab-df-convert {\n",
              "      background-color: #E8F0FE;\n",
              "      border: none;\n",
              "      border-radius: 50%;\n",
              "      cursor: pointer;\n",
              "      display: none;\n",
              "      fill: #1967D2;\n",
              "      height: 32px;\n",
              "      padding: 0 0 0 0;\n",
              "      width: 32px;\n",
              "    }\n",
              "\n",
              "    .colab-df-convert:hover {\n",
              "      background-color: #E2EBFA;\n",
              "      box-shadow: 0px 1px 2px rgba(60, 64, 67, 0.3), 0px 1px 3px 1px rgba(60, 64, 67, 0.15);\n",
              "      fill: #174EA6;\n",
              "    }\n",
              "\n",
              "    [theme=dark] .colab-df-convert {\n",
              "      background-color: #3B4455;\n",
              "      fill: #D2E3FC;\n",
              "    }\n",
              "\n",
              "    [theme=dark] .colab-df-convert:hover {\n",
              "      background-color: #434B5C;\n",
              "      box-shadow: 0px 1px 3px 1px rgba(0, 0, 0, 0.15);\n",
              "      filter: drop-shadow(0px 1px 2px rgba(0, 0, 0, 0.3));\n",
              "      fill: #FFFFFF;\n",
              "    }\n",
              "  </style>\n",
              "\n",
              "      <script>\n",
              "        const buttonEl =\n",
              "          document.querySelector('#df-d32a5925-0e3f-407b-8932-d46d8b31984c button.colab-df-convert');\n",
              "        buttonEl.style.display =\n",
              "          google.colab.kernel.accessAllowed ? 'block' : 'none';\n",
              "\n",
              "        async function convertToInteractive(key) {\n",
              "          const element = document.querySelector('#df-d32a5925-0e3f-407b-8932-d46d8b31984c');\n",
              "          const dataTable =\n",
              "            await google.colab.kernel.invokeFunction('convertToInteractive',\n",
              "                                                     [key], {});\n",
              "          if (!dataTable) return;\n",
              "\n",
              "          const docLinkHtml = 'Like what you see? Visit the ' +\n",
              "            '<a target=\"_blank\" href=https://colab.research.google.com/notebooks/data_table.ipynb>data table notebook</a>'\n",
              "            + ' to learn more about interactive tables.';\n",
              "          element.innerHTML = '';\n",
              "          dataTable['output_type'] = 'display_data';\n",
              "          await google.colab.output.renderOutput(dataTable, element);\n",
              "          const docLink = document.createElement('div');\n",
              "          docLink.innerHTML = docLinkHtml;\n",
              "          element.appendChild(docLink);\n",
              "        }\n",
              "      </script>\n",
              "    </div>\n",
              "  </div>\n",
              "  "
            ]
          },
          "metadata": {},
          "execution_count": 5
        }
      ]
    },
    {
      "cell_type": "code",
      "source": [
        "data_empregados = {'aluno'       : ['João', 'Ribeiro', 'Isaias','Anne','Luiz'],    \n",
        "                   'emprego'     : ['Mecanico', 'Mecanico', 'Farmaceutico', 'Professor', 'Enfermeiro'],    \n",
        "                  }\n",
        "\n",
        "df2 = pd.DataFrame(data_empregados)"
      ],
      "metadata": {
        "id": "73-1zMyGa6-a"
      },
      "execution_count": 6,
      "outputs": []
    },
    {
      "cell_type": "code",
      "source": [
        "df2"
      ],
      "metadata": {
        "colab": {
          "base_uri": "https://localhost:8080/",
          "height": 206
        },
        "id": "53oX2gCVbXi3",
        "outputId": "97da1512-23d3-4ed1-9147-bb5bfed1a363"
      },
      "execution_count": 7,
      "outputs": [
        {
          "output_type": "execute_result",
          "data": {
            "text/plain": [
              "     aluno       emprego\n",
              "0     João      Mecanico\n",
              "1  Ribeiro      Mecanico\n",
              "2   Isaias  Farmaceutico\n",
              "3     Anne     Professor\n",
              "4     Luiz    Enfermeiro"
            ],
            "text/html": [
              "\n",
              "  <div id=\"df-f322d028-9e84-4e90-9c1e-beea2e36451f\">\n",
              "    <div class=\"colab-df-container\">\n",
              "      <div>\n",
              "<style scoped>\n",
              "    .dataframe tbody tr th:only-of-type {\n",
              "        vertical-align: middle;\n",
              "    }\n",
              "\n",
              "    .dataframe tbody tr th {\n",
              "        vertical-align: top;\n",
              "    }\n",
              "\n",
              "    .dataframe thead th {\n",
              "        text-align: right;\n",
              "    }\n",
              "</style>\n",
              "<table border=\"1\" class=\"dataframe\">\n",
              "  <thead>\n",
              "    <tr style=\"text-align: right;\">\n",
              "      <th></th>\n",
              "      <th>aluno</th>\n",
              "      <th>emprego</th>\n",
              "    </tr>\n",
              "  </thead>\n",
              "  <tbody>\n",
              "    <tr>\n",
              "      <th>0</th>\n",
              "      <td>João</td>\n",
              "      <td>Mecanico</td>\n",
              "    </tr>\n",
              "    <tr>\n",
              "      <th>1</th>\n",
              "      <td>Ribeiro</td>\n",
              "      <td>Mecanico</td>\n",
              "    </tr>\n",
              "    <tr>\n",
              "      <th>2</th>\n",
              "      <td>Isaias</td>\n",
              "      <td>Farmaceutico</td>\n",
              "    </tr>\n",
              "    <tr>\n",
              "      <th>3</th>\n",
              "      <td>Anne</td>\n",
              "      <td>Professor</td>\n",
              "    </tr>\n",
              "    <tr>\n",
              "      <th>4</th>\n",
              "      <td>Luiz</td>\n",
              "      <td>Enfermeiro</td>\n",
              "    </tr>\n",
              "  </tbody>\n",
              "</table>\n",
              "</div>\n",
              "      <button class=\"colab-df-convert\" onclick=\"convertToInteractive('df-f322d028-9e84-4e90-9c1e-beea2e36451f')\"\n",
              "              title=\"Convert this dataframe to an interactive table.\"\n",
              "              style=\"display:none;\">\n",
              "        \n",
              "  <svg xmlns=\"http://www.w3.org/2000/svg\" height=\"24px\"viewBox=\"0 0 24 24\"\n",
              "       width=\"24px\">\n",
              "    <path d=\"M0 0h24v24H0V0z\" fill=\"none\"/>\n",
              "    <path d=\"M18.56 5.44l.94 2.06.94-2.06 2.06-.94-2.06-.94-.94-2.06-.94 2.06-2.06.94zm-11 1L8.5 8.5l.94-2.06 2.06-.94-2.06-.94L8.5 2.5l-.94 2.06-2.06.94zm10 10l.94 2.06.94-2.06 2.06-.94-2.06-.94-.94-2.06-.94 2.06-2.06.94z\"/><path d=\"M17.41 7.96l-1.37-1.37c-.4-.4-.92-.59-1.43-.59-.52 0-1.04.2-1.43.59L10.3 9.45l-7.72 7.72c-.78.78-.78 2.05 0 2.83L4 21.41c.39.39.9.59 1.41.59.51 0 1.02-.2 1.41-.59l7.78-7.78 2.81-2.81c.8-.78.8-2.07 0-2.86zM5.41 20L4 18.59l7.72-7.72 1.47 1.35L5.41 20z\"/>\n",
              "  </svg>\n",
              "      </button>\n",
              "      \n",
              "  <style>\n",
              "    .colab-df-container {\n",
              "      display:flex;\n",
              "      flex-wrap:wrap;\n",
              "      gap: 12px;\n",
              "    }\n",
              "\n",
              "    .colab-df-convert {\n",
              "      background-color: #E8F0FE;\n",
              "      border: none;\n",
              "      border-radius: 50%;\n",
              "      cursor: pointer;\n",
              "      display: none;\n",
              "      fill: #1967D2;\n",
              "      height: 32px;\n",
              "      padding: 0 0 0 0;\n",
              "      width: 32px;\n",
              "    }\n",
              "\n",
              "    .colab-df-convert:hover {\n",
              "      background-color: #E2EBFA;\n",
              "      box-shadow: 0px 1px 2px rgba(60, 64, 67, 0.3), 0px 1px 3px 1px rgba(60, 64, 67, 0.15);\n",
              "      fill: #174EA6;\n",
              "    }\n",
              "\n",
              "    [theme=dark] .colab-df-convert {\n",
              "      background-color: #3B4455;\n",
              "      fill: #D2E3FC;\n",
              "    }\n",
              "\n",
              "    [theme=dark] .colab-df-convert:hover {\n",
              "      background-color: #434B5C;\n",
              "      box-shadow: 0px 1px 3px 1px rgba(0, 0, 0, 0.15);\n",
              "      filter: drop-shadow(0px 1px 2px rgba(0, 0, 0, 0.3));\n",
              "      fill: #FFFFFF;\n",
              "    }\n",
              "  </style>\n",
              "\n",
              "      <script>\n",
              "        const buttonEl =\n",
              "          document.querySelector('#df-f322d028-9e84-4e90-9c1e-beea2e36451f button.colab-df-convert');\n",
              "        buttonEl.style.display =\n",
              "          google.colab.kernel.accessAllowed ? 'block' : 'none';\n",
              "\n",
              "        async function convertToInteractive(key) {\n",
              "          const element = document.querySelector('#df-f322d028-9e84-4e90-9c1e-beea2e36451f');\n",
              "          const dataTable =\n",
              "            await google.colab.kernel.invokeFunction('convertToInteractive',\n",
              "                                                     [key], {});\n",
              "          if (!dataTable) return;\n",
              "\n",
              "          const docLinkHtml = 'Like what you see? Visit the ' +\n",
              "            '<a target=\"_blank\" href=https://colab.research.google.com/notebooks/data_table.ipynb>data table notebook</a>'\n",
              "            + ' to learn more about interactive tables.';\n",
              "          element.innerHTML = '';\n",
              "          dataTable['output_type'] = 'display_data';\n",
              "          await google.colab.output.renderOutput(dataTable, element);\n",
              "          const docLink = document.createElement('div');\n",
              "          docLink.innerHTML = docLinkHtml;\n",
              "          element.appendChild(docLink);\n",
              "        }\n",
              "      </script>\n",
              "    </div>\n",
              "  </div>\n",
              "  "
            ]
          },
          "metadata": {},
          "execution_count": 7
        }
      ]
    },
    {
      "cell_type": "markdown",
      "source": [
        "# SELECT"
      ],
      "metadata": {
        "id": "sD0ZKoUfBb7j"
      }
    },
    {
      "cell_type": "code",
      "source": [
        "# Selecting all data\n",
        "\n",
        "statement = \"SELECT * FROM df LIMIT 5;\"\n",
        "\n",
        "selected_data = sqldf(statement, globals())\n",
        "\n",
        "print(selected_data)"
      ],
      "metadata": {
        "colab": {
          "base_uri": "https://localhost:8080/"
        },
        "id": "1Q-6CgrTBdfv",
        "outputId": "2911ca19-1246-492e-fcc0-ccd9a40f9d85"
      },
      "execution_count": 8,
      "outputs": [
        {
          "output_type": "stream",
          "name": "stdout",
          "text": [
            "     aluno  idade     cidade                 aniversario\n",
            "0     João     20  São Paulo  2002-10-04 00:00:00.000000\n",
            "1  Ribeiro     29   São João  2003-02-20 00:00:00.000000\n",
            "2   Evaldo     22     Pinhal                        None\n",
            "3   Isaias     21     Mococa  2000-04-20 00:00:00.000000\n",
            "4  Jessyca     35      Poços  1987-12-12 00:00:00.000000\n"
          ]
        }
      ]
    },
    {
      "cell_type": "code",
      "source": [
        "# Selecting name and age\n",
        "\n",
        "statement = \"SELECT aluno, idade FROM df LIMIT 5;\"\n",
        "\n",
        "selected_data = sqldf(statement, globals())\n",
        "\n",
        "print(selected_data)"
      ],
      "metadata": {
        "colab": {
          "base_uri": "https://localhost:8080/"
        },
        "id": "EZhrXoghBlWs",
        "outputId": "871b54e9-00e8-4216-cc87-a109c4862e60"
      },
      "execution_count": 9,
      "outputs": [
        {
          "output_type": "stream",
          "name": "stdout",
          "text": [
            "     aluno  idade\n",
            "0     João     20\n",
            "1  Ribeiro     29\n",
            "2   Evaldo     22\n",
            "3   Isaias     21\n",
            "4  Jessyca     35\n"
          ]
        }
      ]
    },
    {
      "cell_type": "markdown",
      "source": [
        "Obs: The main function used in pandasql is sqldf. sqldf accepts 2 parametrs - a sql query string - an set of session/environment variables (locals() or globals())"
      ],
      "metadata": {
        "id": "yT9mrHDvC6bS"
      }
    },
    {
      "cell_type": "markdown",
      "source": [
        "# DISTINCT/ COUNT / AS"
      ],
      "metadata": {
        "id": "F_rBHptbCOh-"
      }
    },
    {
      "cell_type": "code",
      "source": [
        "# Selecting distinct cities\n",
        "\n",
        "statement = \"SELECT DISTINCT cidade FROM df;\"\n",
        "\n",
        "selected_data = sqldf(statement, globals())\n",
        "\n",
        "print(selected_data)"
      ],
      "metadata": {
        "colab": {
          "base_uri": "https://localhost:8080/"
        },
        "id": "RpXQl7UOCQ8o",
        "outputId": "58491519-e1a2-480a-ee9a-0cbe111544c8"
      },
      "execution_count": 10,
      "outputs": [
        {
          "output_type": "stream",
          "name": "stdout",
          "text": [
            "      cidade\n",
            "0  São Paulo\n",
            "1   São João\n",
            "2     Pinhal\n",
            "3     Mococa\n",
            "4      Poços\n",
            "5   Botelhos\n"
          ]
        }
      ]
    },
    {
      "cell_type": "code",
      "source": [
        "# Counting the amount of distinct cities\n",
        "\n",
        "statement = \"SELECT COUNT(DISTINCT cidade) AS num_cities FROM df;\"\n",
        "\n",
        "selected_data = sqldf(statement, globals())\n",
        "\n",
        "print(selected_data)"
      ],
      "metadata": {
        "colab": {
          "base_uri": "https://localhost:8080/"
        },
        "id": "wPHvLiMIDmon",
        "outputId": "2ece6ef1-445b-40ea-8bfc-dca54188f00d"
      },
      "execution_count": 11,
      "outputs": [
        {
          "output_type": "stream",
          "name": "stdout",
          "text": [
            "   num_cities\n",
            "0           6\n"
          ]
        }
      ]
    },
    {
      "cell_type": "code",
      "source": [
        "# Selecting distinct combinations of two cities\n",
        "\n",
        "statement = \"SELECT DISTINCT aluno, cidade FROM df;\"\n",
        "\n",
        "selected_data = sqldf(statement, globals())\n",
        "\n",
        "print(selected_data)"
      ],
      "metadata": {
        "colab": {
          "base_uri": "https://localhost:8080/"
        },
        "id": "Bmh-d5y9EQyV",
        "outputId": "513305fe-da4b-4d5f-c118-66c3099d3830"
      },
      "execution_count": 12,
      "outputs": [
        {
          "output_type": "stream",
          "name": "stdout",
          "text": [
            "     aluno     cidade\n",
            "0     João  São Paulo\n",
            "1  Ribeiro   São João\n",
            "2   Evaldo     Pinhal\n",
            "3   Isaias     Mococa\n",
            "4  Jessyca      Poços\n",
            "5     Anne   Botelhos\n",
            "6     Luiz     Pinhal\n"
          ]
        }
      ]
    },
    {
      "cell_type": "markdown",
      "source": [
        "# WHERE"
      ],
      "metadata": {
        "id": "-RDaZLx6FiwT"
      }
    },
    {
      "cell_type": "code",
      "source": [
        "# Selecting with a condition\n",
        "\n",
        "statement = \"SELECT * FROM df WHERE cidade = 'Pinhal';\"\n",
        "\n",
        "selected_data = sqldf(statement, globals())\n",
        "\n",
        "print(selected_data)"
      ],
      "metadata": {
        "colab": {
          "base_uri": "https://localhost:8080/"
        },
        "id": "BlpEd6FPF2KX",
        "outputId": "1ea2e5b2-e515-4da6-97b8-20071a3850f3"
      },
      "execution_count": 13,
      "outputs": [
        {
          "output_type": "stream",
          "name": "stdout",
          "text": [
            "    aluno  idade  cidade aniversario\n",
            "0  Evaldo     22  Pinhal        None\n",
            "1    Luiz     40  Pinhal        None\n"
          ]
        }
      ]
    },
    {
      "cell_type": "code",
      "source": [
        "# Selecting the name of the students that lives in Pinhal\n",
        "\n",
        "statement = \"SELECT aluno FROM df WHERE cidade = 'Pinhal';\"\n",
        "\n",
        "selected_data = sqldf(statement, globals())\n",
        "\n",
        "print(selected_data)"
      ],
      "metadata": {
        "colab": {
          "base_uri": "https://localhost:8080/"
        },
        "id": "fa7tyCepGHud",
        "outputId": "6939a144-987f-4e59-d3a3-9bbc6fc8a5f9"
      },
      "execution_count": 14,
      "outputs": [
        {
          "output_type": "stream",
          "name": "stdout",
          "text": [
            "    aluno\n",
            "0  Evaldo\n",
            "1    Luiz\n"
          ]
        }
      ]
    },
    {
      "cell_type": "code",
      "source": [
        "# Selecting the name of the students that lives in Pinhal or São Paulo\n",
        "\n",
        "statement = \"SELECT aluno FROM df WHERE cidade = 'Pinhal' OR cidade = 'São Paulo';\"\n",
        "\n",
        "selected_data = sqldf(statement, globals())\n",
        "\n",
        "print(selected_data)"
      ],
      "metadata": {
        "colab": {
          "base_uri": "https://localhost:8080/"
        },
        "id": "wTNzYW6MGS79",
        "outputId": "36030216-16b0-4ee7-925a-194aedf3044c"
      },
      "execution_count": 15,
      "outputs": [
        {
          "output_type": "stream",
          "name": "stdout",
          "text": [
            "    aluno\n",
            "0    João\n",
            "1  Evaldo\n",
            "2    Luiz\n"
          ]
        }
      ]
    },
    {
      "cell_type": "code",
      "source": [
        "# Selecting the name of the students that do not lives in São Paulo and the age is greater than 25\n",
        "\n",
        "statement = \"SELECT aluno FROM df WHERE cidade != 'São Paulo' AND idade > 25;\"\n",
        "\n",
        "selected_data = sqldf(statement, globals())\n",
        "\n",
        "print(selected_data)"
      ],
      "metadata": {
        "colab": {
          "base_uri": "https://localhost:8080/"
        },
        "id": "EHuNuOHkGsKB",
        "outputId": "19eb9601-35dc-482f-dadb-b31e703a6231"
      },
      "execution_count": 16,
      "outputs": [
        {
          "output_type": "stream",
          "name": "stdout",
          "text": [
            "     aluno\n",
            "0  Ribeiro\n",
            "1  Jessyca\n",
            "2     Anne\n",
            "3     Luiz\n"
          ]
        }
      ]
    },
    {
      "cell_type": "code",
      "source": [
        "# Selecting names ending with 'iz' or starting with 'Je'\n",
        "\n",
        "statement = \"SELECT aluno FROM df WHERE aluno LIKE '%iz' OR aluno LIKE 'Je%';\"\n",
        "\n",
        "selected_data = sqldf(statement, globals())\n",
        "\n",
        "print(selected_data)"
      ],
      "metadata": {
        "colab": {
          "base_uri": "https://localhost:8080/"
        },
        "id": "QCOW-GitH49j",
        "outputId": "90a55bd0-e1e7-4112-e084-99fbdaca654b"
      },
      "execution_count": 17,
      "outputs": [
        {
          "output_type": "stream",
          "name": "stdout",
          "text": [
            "     aluno\n",
            "0  Jessyca\n",
            "1     Luiz\n"
          ]
        }
      ]
    },
    {
      "cell_type": "code",
      "source": [
        "# Selecting the average age of citizens of Pinhal\n",
        "\n",
        "statement = \"SELECT AVG(idade) AS mean_age FROM df WHERE cidade = 'Pinhal';\"\n",
        "\n",
        "selected_data = sqldf(statement, globals())\n",
        "\n",
        "print(selected_data)"
      ],
      "metadata": {
        "colab": {
          "base_uri": "https://localhost:8080/"
        },
        "id": "hlDzvZ5pI1uT",
        "outputId": "4964abf0-7c2a-4d84-9a6b-284bed1349fd"
      },
      "execution_count": 18,
      "outputs": [
        {
          "output_type": "stream",
          "name": "stdout",
          "text": [
            "   mean_age\n",
            "0      31.0\n"
          ]
        }
      ]
    },
    {
      "cell_type": "markdown",
      "source": [
        "# ORDER BY"
      ],
      "metadata": {
        "id": "RBKtlBfHJgSZ"
      }
    },
    {
      "cell_type": "code",
      "source": [
        "# Ordering the data by age ascending\n",
        "\n",
        "statement = \"SELECT idade FROM df ORDER BY idade;\"\n",
        "\n",
        "selected_data = sqldf(statement, globals())\n",
        "\n",
        "print(selected_data)"
      ],
      "metadata": {
        "colab": {
          "base_uri": "https://localhost:8080/"
        },
        "id": "-vVS_88lJrgt",
        "outputId": "71bd9ce3-1d3b-4b76-f8df-c6965b99927c"
      },
      "execution_count": 19,
      "outputs": [
        {
          "output_type": "stream",
          "name": "stdout",
          "text": [
            "   idade\n",
            "0     20\n",
            "1     21\n",
            "2     22\n",
            "3     29\n",
            "4     32\n",
            "5     35\n",
            "6     40\n"
          ]
        }
      ]
    },
    {
      "cell_type": "code",
      "source": [
        "# Ordering the data by age descending\n",
        "\n",
        "statement = \"SELECT idade FROM df ORDER BY idade DESC;\"\n",
        "\n",
        "selected_data = sqldf(statement, globals())\n",
        "\n",
        "print(selected_data)"
      ],
      "metadata": {
        "colab": {
          "base_uri": "https://localhost:8080/"
        },
        "id": "o16Q42tNJ8Zq",
        "outputId": "1bf1bbb9-ad72-480a-befc-8e820fb838c1"
      },
      "execution_count": 20,
      "outputs": [
        {
          "output_type": "stream",
          "name": "stdout",
          "text": [
            "   idade\n",
            "0     40\n",
            "1     35\n",
            "2     32\n",
            "3     29\n",
            "4     22\n",
            "5     21\n",
            "6     20\n"
          ]
        }
      ]
    },
    {
      "cell_type": "code",
      "source": [
        "# Ordering the data by city ascending and then by age descending\n",
        "\n",
        "statement = \"SELECT cidade, idade FROM df ORDER BY cidade, idade DESC;\"\n",
        "\n",
        "selected_data = sqldf(statement, globals())\n",
        "\n",
        "print(selected_data)"
      ],
      "metadata": {
        "colab": {
          "base_uri": "https://localhost:8080/"
        },
        "id": "0aGJTSu8KA0d",
        "outputId": "fab06126-4a0f-4183-ec0d-25e44ca7f757"
      },
      "execution_count": 21,
      "outputs": [
        {
          "output_type": "stream",
          "name": "stdout",
          "text": [
            "      cidade  idade\n",
            "0   Botelhos     32\n",
            "1     Mococa     21\n",
            "2     Pinhal     40\n",
            "3     Pinhal     22\n",
            "4      Poços     35\n",
            "5   São João     29\n",
            "6  São Paulo     20\n"
          ]
        }
      ]
    },
    {
      "cell_type": "markdown",
      "source": [
        "# GROUP BY"
      ],
      "metadata": {
        "id": "fUGjgahMKcNg"
      }
    },
    {
      "cell_type": "code",
      "source": [
        "# Grouping the data by city and getting the max age\n",
        "\n",
        "statement = \"SELECT cidade, MAX(idade) FROM df GROUP BY cidade;\"\n",
        "\n",
        "selected_data = sqldf(statement, globals())\n",
        "\n",
        "print(selected_data)"
      ],
      "metadata": {
        "colab": {
          "base_uri": "https://localhost:8080/"
        },
        "id": "86qdodYxKoGc",
        "outputId": "2c7cbc6b-446d-443d-80de-127c07ba7835"
      },
      "execution_count": 22,
      "outputs": [
        {
          "output_type": "stream",
          "name": "stdout",
          "text": [
            "      cidade  MAX(idade)\n",
            "0   Botelhos          32\n",
            "1     Mococa          21\n",
            "2     Pinhal          40\n",
            "3      Poços          35\n",
            "4   São João          29\n",
            "5  São Paulo          20\n"
          ]
        }
      ]
    },
    {
      "cell_type": "code",
      "source": [
        "# Grouping the data by city and getting the max age, ordering by max(age) ascending\n",
        "\n",
        "statement = \"SELECT cidade, MAX(idade) AS max_age FROM df GROUP BY cidade ORDER BY max_age;\"\n",
        "\n",
        "selected_data = sqldf(statement, globals())\n",
        "\n",
        "print(selected_data)"
      ],
      "metadata": {
        "colab": {
          "base_uri": "https://localhost:8080/"
        },
        "id": "ARgU8cLOMx7v",
        "outputId": "0b150578-014a-45fb-b541-5d6b4b02d56d"
      },
      "execution_count": 23,
      "outputs": [
        {
          "output_type": "stream",
          "name": "stdout",
          "text": [
            "      cidade  max_age\n",
            "0  São Paulo       20\n",
            "1     Mococa       21\n",
            "2   São João       29\n",
            "3   Botelhos       32\n",
            "4      Poços       35\n",
            "5     Pinhal       40\n"
          ]
        }
      ]
    },
    {
      "cell_type": "code",
      "source": [
        "# Grouping the data by city and getting the max age, ordering by max(age) ascending with age > 30\n",
        "\n",
        "statement = \"SELECT cidade, MAX(idade) AS max_age FROM df WHERE idade > 30 GROUP BY cidade ORDER BY max_age;\"\n",
        "\n",
        "selected_data = sqldf(statement, globals())\n",
        "\n",
        "print(selected_data)"
      ],
      "metadata": {
        "colab": {
          "base_uri": "https://localhost:8080/"
        },
        "id": "6ejxcklCOxGK",
        "outputId": "dc4dd2b2-5765-4271-ce12-774d4454b30d"
      },
      "execution_count": 24,
      "outputs": [
        {
          "output_type": "stream",
          "name": "stdout",
          "text": [
            "     cidade  max_age\n",
            "0  Botelhos       32\n",
            "1     Poços       35\n",
            "2    Pinhal       40\n"
          ]
        }
      ]
    },
    {
      "cell_type": "code",
      "source": [
        "# Getting the average age grouped by city and returning the city initials\n",
        "\n",
        "statement = \"SELECT SUBSTR(cidade, 1, 3) AS initials, AVG(idade) FROM df GROUP BY cidade;\" # SUBSTR(cidade, 3) gets the last 3 characteres\n",
        "\n",
        "selected_data = sqldf(statement, globals())\n",
        "\n",
        "print(selected_data)"
      ],
      "metadata": {
        "colab": {
          "base_uri": "https://localhost:8080/"
        },
        "id": "7nF_Vzg9Ql36",
        "outputId": "4f09c002-c1cb-4a5d-894b-28619de92835"
      },
      "execution_count": 25,
      "outputs": [
        {
          "output_type": "stream",
          "name": "stdout",
          "text": [
            "  initials  AVG(idade)\n",
            "0      Bot        32.0\n",
            "1      Moc        21.0\n",
            "2      Pin        31.0\n",
            "3      Poç        35.0\n",
            "4      São        29.0\n",
            "5      São        20.0\n"
          ]
        }
      ]
    },
    {
      "cell_type": "markdown",
      "source": [
        "# Having"
      ],
      "metadata": {
        "id": "iFHXbVDqSoP-"
      }
    },
    {
      "cell_type": "markdown",
      "source": [
        "Kind of a condition to the WHERE clause"
      ],
      "metadata": {
        "id": "R0arXtGjTTkq"
      }
    },
    {
      "cell_type": "code",
      "source": [
        "# Grouping the data by city and getting the average age, ordering by max(age) ascending with mean_age > 20\n",
        "\n",
        "statement = \"SELECT cidade, AVG(idade) AS max_age FROM df GROUP BY cidade HAVING max_age > 20 ORDER BY max_age;\"\n",
        "\n",
        "selected_data = sqldf(statement, globals())\n",
        "\n",
        "print(selected_data)"
      ],
      "metadata": {
        "colab": {
          "base_uri": "https://localhost:8080/"
        },
        "id": "LMUFHkL_SpEX",
        "outputId": "280cf66f-fc54-4173-9b69-285d394354cf"
      },
      "execution_count": 26,
      "outputs": [
        {
          "output_type": "stream",
          "name": "stdout",
          "text": [
            "     cidade  max_age\n",
            "0    Mococa     21.0\n",
            "1  São João     29.0\n",
            "2    Pinhal     31.0\n",
            "3  Botelhos     32.0\n",
            "4     Poços     35.0\n"
          ]
        }
      ]
    },
    {
      "cell_type": "code",
      "source": [
        "# Returning a column for the amount of citizens in each city\n",
        "\n",
        "statement = \" \\\n",
        "  SELECT cidade, SUM(CASE WHEN cidade = 'Pinhal' THEN 1 ELSE 0 END) AS citizens \\\n",
        "  FROM df \\\n",
        "  GROUP BY cidade; \\\n",
        "\"\n",
        "\n",
        "selected_data = sqldf(statement, globals())\n",
        "\n",
        "print(selected_data)\n",
        "\n",
        "# Extra: returning the percentage of students that lives in 'Pinhal\n",
        "\n",
        "# statement = \" \\\n",
        "#   SELECT aluno, SUM(CASE WHEN cidade = 'Pinhal' THEN 1.0 ELSE 0.0 END)/COUNT(*) AS frac_math \\\n",
        "#   FROM df; \\\n",
        "# \""
      ],
      "metadata": {
        "colab": {
          "base_uri": "https://localhost:8080/"
        },
        "id": "5OP-XdKUUJFP",
        "outputId": "fda63adb-5d3f-4f52-9523-d1f27812688e"
      },
      "execution_count": 27,
      "outputs": [
        {
          "output_type": "stream",
          "name": "stdout",
          "text": [
            "      cidade  citizens\n",
            "0   Botelhos         0\n",
            "1     Mococa         0\n",
            "2     Pinhal         2\n",
            "3      Poços         0\n",
            "4   São João         0\n",
            "5  São Paulo         0\n"
          ]
        }
      ]
    },
    {
      "cell_type": "markdown",
      "source": [
        "# JOINS"
      ],
      "metadata": {
        "id": "yz08HsjfXsQQ"
      }
    },
    {
      "cell_type": "markdown",
      "source": [
        "<img src = \"https://miro.medium.com/max/1200/1*av8Om3HpG1MC7YTLKvyftg.png\" width = 150%>\n",
        "\n",
        "image-font = https://miro.medium.com/max/1200/1*av8Om3HpG1MC7YTLKvyftg.png"
      ],
      "metadata": {
        "id": "928XjY1hYzhG"
      }
    },
    {
      "cell_type": "code",
      "source": [
        "# Returning the age among working students\n",
        "\n",
        "statement = \" \\\n",
        "  SELECT S.aluno, W.emprego, idade \\\n",
        "  FROM df S \\\n",
        "  INNER JOIN df2 W ON S.aluno = W.aluno; \\\n",
        "\"\n",
        "\n",
        "selected_data = sqldf(statement, globals())\n",
        "\n",
        "print(selected_data)"
      ],
      "metadata": {
        "colab": {
          "base_uri": "https://localhost:8080/"
        },
        "id": "ZA5ccLAbXtnZ",
        "outputId": "daeb6ddd-db66-4870-a56d-5c857ab93e77"
      },
      "execution_count": 28,
      "outputs": [
        {
          "output_type": "stream",
          "name": "stdout",
          "text": [
            "     aluno       emprego  idade\n",
            "0     João      Mecanico     20\n",
            "1  Ribeiro      Mecanico     29\n",
            "2   Isaias  Farmaceutico     21\n",
            "3     Anne     Professor     32\n",
            "4     Luiz    Enfermeiro     40\n"
          ]
        }
      ]
    },
    {
      "cell_type": "code",
      "source": [
        "# Returning the student and the average age among their profession\n",
        "\n",
        "statement = \" \\\n",
        "  SELECT S.aluno, W.emprego, AVG(idade) \\\n",
        "  FROM df S \\\n",
        "  INNER JOIN df2 W ON S.aluno = W.aluno \\\n",
        "  GROUP BY W.emprego \\\n",
        "  ORDER BY S.idade; \\\n",
        "\"\n",
        "\n",
        "selected_data = sqldf(statement, globals())\n",
        "\n",
        "print(selected_data)"
      ],
      "metadata": {
        "colab": {
          "base_uri": "https://localhost:8080/"
        },
        "id": "ueazAlhZdhJn",
        "outputId": "55e22a73-8b89-4e81-b908-7d3953895267"
      },
      "execution_count": 29,
      "outputs": [
        {
          "output_type": "stream",
          "name": "stdout",
          "text": [
            "     aluno       emprego  AVG(idade)\n",
            "0   Isaias  Farmaceutico        21.0\n",
            "1  Ribeiro      Mecanico        24.5\n",
            "2     Anne     Professor        32.0\n",
            "3     Luiz    Enfermeiro        40.0\n"
          ]
        }
      ]
    },
    {
      "cell_type": "code",
      "source": [
        "# Returning the students and their profession even if it's null\n",
        "\n",
        "statement = \" \\\n",
        "  SELECT S.aluno, W.emprego \\\n",
        "  FROM df S \\\n",
        "  LEFT JOIN df2 W ON S.aluno = W.aluno; \\\n",
        "\"\n",
        "\n",
        "selected_data = sqldf(statement, globals())\n",
        "\n",
        "print(selected_data)"
      ],
      "metadata": {
        "colab": {
          "base_uri": "https://localhost:8080/"
        },
        "id": "wJ4swhOre546",
        "outputId": "c3ad249e-381c-4c74-f8f3-f1f6500f4a23"
      },
      "execution_count": 30,
      "outputs": [
        {
          "output_type": "stream",
          "name": "stdout",
          "text": [
            "     aluno       emprego\n",
            "0     João      Mecanico\n",
            "1  Ribeiro      Mecanico\n",
            "2   Evaldo          None\n",
            "3   Isaias  Farmaceutico\n",
            "4  Jessyca          None\n",
            "5     Anne     Professor\n",
            "6     Luiz    Enfermeiro\n"
          ]
        }
      ]
    },
    {
      "cell_type": "code",
      "source": [
        "# Returning the students who don't work\n",
        "\n",
        "statement = \" \\\n",
        "  SELECT S.aluno \\\n",
        "  FROM df S \\\n",
        "  LEFT JOIN df2 W ON S.aluno = W.aluno \\\n",
        "  WHERE W.aluno IS NULL; \\\n",
        "\"\n",
        "\n",
        "selected_data = sqldf(statement, globals())\n",
        "\n",
        "print(selected_data)"
      ],
      "metadata": {
        "colab": {
          "base_uri": "https://localhost:8080/"
        },
        "id": "20NzpfuoeXGz",
        "outputId": "020bfc1f-9984-4130-a73e-595340314ff1"
      },
      "execution_count": 31,
      "outputs": [
        {
          "output_type": "stream",
          "name": "stdout",
          "text": [
            "     aluno\n",
            "0   Evaldo\n",
            "1  Jessyca\n"
          ]
        }
      ]
    },
    {
      "cell_type": "code",
      "source": [
        "# Getting the percentage of students who work among the cities\n",
        "\n",
        "statement = \" \\\n",
        "  SELECT S.cidade, SUM(CASE WHEN emprego IS NOT NULL THEN 1.0 ELSE 0.0 END)/COUNT(*) AS frac_working \\\n",
        "  FROM df S \\\n",
        "  LEFT JOIN df2 W ON S.aluno = W.aluno \\\n",
        "  GROUP BY cidade; \\\n",
        "\"\n",
        "\n",
        "selected_data = sqldf(statement, globals())\n",
        "\n",
        "print(selected_data)"
      ],
      "metadata": {
        "colab": {
          "base_uri": "https://localhost:8080/"
        },
        "id": "RybRjmZUgbtz",
        "outputId": "9a70dc2e-e99a-434e-f15d-9c8b569bf6ff"
      },
      "execution_count": 32,
      "outputs": [
        {
          "output_type": "stream",
          "name": "stdout",
          "text": [
            "      cidade  frac_working\n",
            "0   Botelhos           1.0\n",
            "1     Mococa           1.0\n",
            "2     Pinhal           0.5\n",
            "3      Poços           0.0\n",
            "4   São João           1.0\n",
            "5  São Paulo           1.0\n"
          ]
        }
      ]
    },
    {
      "cell_type": "code",
      "source": [
        "# Getting the percentage of students who work among the cities and returning the cities with 100%\n",
        "\n",
        "statement = \" \\\n",
        "  SELECT S.cidade, SUM(CASE WHEN emprego IS NOT NULL THEN 1.0 ELSE 0.0 END)/COUNT(*) AS frac_working \\\n",
        "  FROM df S \\\n",
        "  LEFT JOIN df2 W ON S.aluno = W.aluno \\\n",
        "  GROUP BY cidade \\\n",
        "  HAVING frac_working = 1.0; \\\n",
        "\"\n",
        "\n",
        "selected_data = sqldf(statement, globals())\n",
        "\n",
        "print(selected_data)"
      ],
      "metadata": {
        "colab": {
          "base_uri": "https://localhost:8080/"
        },
        "id": "JxVTYiEbg13f",
        "outputId": "b75927d5-12f9-4ab3-bad5-ff9999070677"
      },
      "execution_count": 33,
      "outputs": [
        {
          "output_type": "stream",
          "name": "stdout",
          "text": [
            "      cidade  frac_working\n",
            "0   Botelhos           1.0\n",
            "1     Mococa           1.0\n",
            "2   São João           1.0\n",
            "3  São Paulo           1.0\n"
          ]
        }
      ]
    },
    {
      "cell_type": "markdown",
      "source": [
        "# SELF JOIN"
      ],
      "metadata": {
        "id": "Bd_Fkpe5hK65"
      }
    },
    {
      "cell_type": "code",
      "source": [
        "# Returning the difference in age between two students\n",
        "\n",
        "statement = \" \\\n",
        "  SELECT S1.aluno AS student_1, S1.idade AS age_student_1, \\\n",
        "   S2.aluno AS student_2, S2.idade as age_student_2, \\\n",
        "   ABS(S1.idade - S2.idade) AS age_dif \\\n",
        "  FROM df S1 INNER JOIN df S2\\\n",
        "  WHERE S1.aluno != S2.aluno \\\n",
        "  LIMIT 10; \\\n",
        "\"\n",
        "# note that 'INNER JOIN' can be replaced by ','\n",
        "\n",
        "selected_data = sqldf(statement, globals())\n",
        "\n",
        "print(selected_data)"
      ],
      "metadata": {
        "colab": {
          "base_uri": "https://localhost:8080/"
        },
        "id": "qf7eoxKehqhZ",
        "outputId": "0d173bff-403b-4946-a978-8c985c64f617"
      },
      "execution_count": 34,
      "outputs": [
        {
          "output_type": "stream",
          "name": "stdout",
          "text": [
            "  student_1  age_student_1 student_2  age_student_2  age_dif\n",
            "0      João             20   Ribeiro             29        9\n",
            "1      João             20    Evaldo             22        2\n",
            "2      João             20    Isaias             21        1\n",
            "3      João             20   Jessyca             35       15\n",
            "4      João             20      Anne             32       12\n",
            "5      João             20      Luiz             40       20\n",
            "6   Ribeiro             29      João             20        9\n",
            "7   Ribeiro             29    Evaldo             22        7\n",
            "8   Ribeiro             29    Isaias             21        8\n",
            "9   Ribeiro             29   Jessyca             35        6\n"
          ]
        }
      ]
    },
    {
      "cell_type": "code",
      "source": [
        "# Taking the average of all the absolute age differences\n",
        "\n",
        "statement = \" \\\n",
        "  SELECT AVG( ABS(S1.idade - S2.idade) ) AS age_avg_absdiff \\\n",
        "  FROM df S1, df S2 \\\n",
        "  WHERE S1.aluno != S2.aluno; \\\n",
        "\"\n",
        "\n",
        "selected_data = sqldf(statement, globals())\n",
        "\n",
        "print(selected_data)"
      ],
      "metadata": {
        "colab": {
          "base_uri": "https://localhost:8080/"
        },
        "id": "8fUfSHG9lFlM",
        "outputId": "38095bab-2f94-4559-e515-0feb9e5fe73a"
      },
      "execution_count": 35,
      "outputs": [
        {
          "output_type": "stream",
          "name": "stdout",
          "text": [
            "   age_avg_absdiff\n",
            "0         9.333333\n"
          ]
        }
      ]
    },
    {
      "cell_type": "markdown",
      "source": [
        "# SQLITE"
      ],
      "metadata": {
        "id": "OMWfLI7rtfiw"
      }
    },
    {
      "cell_type": "code",
      "source": [
        "# Biblioteca necessária\n",
        "\n",
        "import sqlite3"
      ],
      "metadata": {
        "id": "VGU9Wn9gr3AX"
      },
      "execution_count": 36,
      "outputs": []
    },
    {
      "cell_type": "code",
      "source": [
        "# Create a database connection\n",
        "conn = sqlite3.connect('df2.db')\n",
        "\n",
        "# Create a cursor\n",
        "cur = conn.cursor()"
      ],
      "metadata": {
        "id": "ZCgpnEI_sNHq"
      },
      "execution_count": 37,
      "outputs": []
    },
    {
      "cell_type": "code",
      "source": [
        "# Fuction that displays the result as a table\n",
        "\n",
        "def display_as_table(data, headers):\n",
        "  df3 = pd.DataFrame(data = data, columns = [i[0] for i in headers])\n",
        "  return df3"
      ],
      "metadata": {
        "id": "pclTyEtmr5xJ"
      },
      "execution_count": 38,
      "outputs": []
    },
    {
      "cell_type": "markdown",
      "source": [
        "# CREATE TABLE"
      ],
      "metadata": {
        "id": "qvrHZ6g6rvhf"
      }
    },
    {
      "cell_type": "code",
      "source": [
        "# Creating the Students table\n",
        "\n",
        "cur.execute(\"CREATE TABLE IF NOT EXISTS Students(Name text, GPA float, Major text, Year integer)\")"
      ],
      "metadata": {
        "colab": {
          "base_uri": "https://localhost:8080/"
        },
        "id": "dNxMbEIytIMx",
        "outputId": "0ad99486-b06b-4006-a3e5-177bfa19224d"
      },
      "execution_count": 39,
      "outputs": [
        {
          "output_type": "execute_result",
          "data": {
            "text/plain": [
              "<sqlite3.Cursor at 0x7fb03d265c00>"
            ]
          },
          "metadata": {},
          "execution_count": 39
        }
      ]
    },
    {
      "cell_type": "code",
      "source": [
        "# Display Students table\n",
        "\n",
        "cur.execute(\"SELECT * FROM Students\")\n",
        "display_as_table(cur.fetchall(), cur.description)"
      ],
      "metadata": {
        "colab": {
          "base_uri": "https://localhost:8080/",
          "height": 49
        },
        "id": "761REKZ4tpud",
        "outputId": "db8ec956-1087-4aa9-f585-515601f5e99c"
      },
      "execution_count": 40,
      "outputs": [
        {
          "output_type": "execute_result",
          "data": {
            "text/plain": [
              "Empty DataFrame\n",
              "Columns: [Name, GPA, Major, Year]\n",
              "Index: []"
            ],
            "text/html": [
              "\n",
              "  <div id=\"df-b0309714-c502-44e5-ba25-65c7cf74c3d9\">\n",
              "    <div class=\"colab-df-container\">\n",
              "      <div>\n",
              "<style scoped>\n",
              "    .dataframe tbody tr th:only-of-type {\n",
              "        vertical-align: middle;\n",
              "    }\n",
              "\n",
              "    .dataframe tbody tr th {\n",
              "        vertical-align: top;\n",
              "    }\n",
              "\n",
              "    .dataframe thead th {\n",
              "        text-align: right;\n",
              "    }\n",
              "</style>\n",
              "<table border=\"1\" class=\"dataframe\">\n",
              "  <thead>\n",
              "    <tr style=\"text-align: right;\">\n",
              "      <th></th>\n",
              "      <th>Name</th>\n",
              "      <th>GPA</th>\n",
              "      <th>Major</th>\n",
              "      <th>Year</th>\n",
              "    </tr>\n",
              "  </thead>\n",
              "  <tbody>\n",
              "  </tbody>\n",
              "</table>\n",
              "</div>\n",
              "      <button class=\"colab-df-convert\" onclick=\"convertToInteractive('df-b0309714-c502-44e5-ba25-65c7cf74c3d9')\"\n",
              "              title=\"Convert this dataframe to an interactive table.\"\n",
              "              style=\"display:none;\">\n",
              "        \n",
              "  <svg xmlns=\"http://www.w3.org/2000/svg\" height=\"24px\"viewBox=\"0 0 24 24\"\n",
              "       width=\"24px\">\n",
              "    <path d=\"M0 0h24v24H0V0z\" fill=\"none\"/>\n",
              "    <path d=\"M18.56 5.44l.94 2.06.94-2.06 2.06-.94-2.06-.94-.94-2.06-.94 2.06-2.06.94zm-11 1L8.5 8.5l.94-2.06 2.06-.94-2.06-.94L8.5 2.5l-.94 2.06-2.06.94zm10 10l.94 2.06.94-2.06 2.06-.94-2.06-.94-.94-2.06-.94 2.06-2.06.94z\"/><path d=\"M17.41 7.96l-1.37-1.37c-.4-.4-.92-.59-1.43-.59-.52 0-1.04.2-1.43.59L10.3 9.45l-7.72 7.72c-.78.78-.78 2.05 0 2.83L4 21.41c.39.39.9.59 1.41.59.51 0 1.02-.2 1.41-.59l7.78-7.78 2.81-2.81c.8-.78.8-2.07 0-2.86zM5.41 20L4 18.59l7.72-7.72 1.47 1.35L5.41 20z\"/>\n",
              "  </svg>\n",
              "      </button>\n",
              "      \n",
              "  <style>\n",
              "    .colab-df-container {\n",
              "      display:flex;\n",
              "      flex-wrap:wrap;\n",
              "      gap: 12px;\n",
              "    }\n",
              "\n",
              "    .colab-df-convert {\n",
              "      background-color: #E8F0FE;\n",
              "      border: none;\n",
              "      border-radius: 50%;\n",
              "      cursor: pointer;\n",
              "      display: none;\n",
              "      fill: #1967D2;\n",
              "      height: 32px;\n",
              "      padding: 0 0 0 0;\n",
              "      width: 32px;\n",
              "    }\n",
              "\n",
              "    .colab-df-convert:hover {\n",
              "      background-color: #E2EBFA;\n",
              "      box-shadow: 0px 1px 2px rgba(60, 64, 67, 0.3), 0px 1px 3px 1px rgba(60, 64, 67, 0.15);\n",
              "      fill: #174EA6;\n",
              "    }\n",
              "\n",
              "    [theme=dark] .colab-df-convert {\n",
              "      background-color: #3B4455;\n",
              "      fill: #D2E3FC;\n",
              "    }\n",
              "\n",
              "    [theme=dark] .colab-df-convert:hover {\n",
              "      background-color: #434B5C;\n",
              "      box-shadow: 0px 1px 3px 1px rgba(0, 0, 0, 0.15);\n",
              "      filter: drop-shadow(0px 1px 2px rgba(0, 0, 0, 0.3));\n",
              "      fill: #FFFFFF;\n",
              "    }\n",
              "  </style>\n",
              "\n",
              "      <script>\n",
              "        const buttonEl =\n",
              "          document.querySelector('#df-b0309714-c502-44e5-ba25-65c7cf74c3d9 button.colab-df-convert');\n",
              "        buttonEl.style.display =\n",
              "          google.colab.kernel.accessAllowed ? 'block' : 'none';\n",
              "\n",
              "        async function convertToInteractive(key) {\n",
              "          const element = document.querySelector('#df-b0309714-c502-44e5-ba25-65c7cf74c3d9');\n",
              "          const dataTable =\n",
              "            await google.colab.kernel.invokeFunction('convertToInteractive',\n",
              "                                                     [key], {});\n",
              "          if (!dataTable) return;\n",
              "\n",
              "          const docLinkHtml = 'Like what you see? Visit the ' +\n",
              "            '<a target=\"_blank\" href=https://colab.research.google.com/notebooks/data_table.ipynb>data table notebook</a>'\n",
              "            + ' to learn more about interactive tables.';\n",
              "          element.innerHTML = '';\n",
              "          dataTable['output_type'] = 'display_data';\n",
              "          await google.colab.output.renderOutput(dataTable, element);\n",
              "          const docLink = document.createElement('div');\n",
              "          docLink.innerHTML = docLinkHtml;\n",
              "          element.appendChild(docLink);\n",
              "        }\n",
              "      </script>\n",
              "    </div>\n",
              "  </div>\n",
              "  "
            ]
          },
          "metadata": {},
          "execution_count": 40
        }
      ]
    },
    {
      "cell_type": "markdown",
      "source": [
        "# INSERT INTO"
      ],
      "metadata": {
        "id": "JBYpsxb-ulNm"
      }
    },
    {
      "cell_type": "code",
      "source": [
        "# Inserting a student into the table\n",
        "\n",
        "cur.execute(\"INSERT INTO Students VALUES ('Joao', 2.9, 'Math', 3)\")\n",
        "\n",
        "cur.execute(\"Select * FROM Students\")\n",
        "\n",
        "display_as_table(cur.fetchall(), cur.description)"
      ],
      "metadata": {
        "colab": {
          "base_uri": "https://localhost:8080/",
          "height": 81
        },
        "id": "cy08dDMbumlL",
        "outputId": "0ac0e924-d72b-4d72-8cb1-0f9b7082851e"
      },
      "execution_count": 41,
      "outputs": [
        {
          "output_type": "execute_result",
          "data": {
            "text/plain": [
              "   Name  GPA Major  Year\n",
              "0  Joao  2.9  Math     3"
            ],
            "text/html": [
              "\n",
              "  <div id=\"df-3135e599-4816-433b-bffe-1c53d5f8728a\">\n",
              "    <div class=\"colab-df-container\">\n",
              "      <div>\n",
              "<style scoped>\n",
              "    .dataframe tbody tr th:only-of-type {\n",
              "        vertical-align: middle;\n",
              "    }\n",
              "\n",
              "    .dataframe tbody tr th {\n",
              "        vertical-align: top;\n",
              "    }\n",
              "\n",
              "    .dataframe thead th {\n",
              "        text-align: right;\n",
              "    }\n",
              "</style>\n",
              "<table border=\"1\" class=\"dataframe\">\n",
              "  <thead>\n",
              "    <tr style=\"text-align: right;\">\n",
              "      <th></th>\n",
              "      <th>Name</th>\n",
              "      <th>GPA</th>\n",
              "      <th>Major</th>\n",
              "      <th>Year</th>\n",
              "    </tr>\n",
              "  </thead>\n",
              "  <tbody>\n",
              "    <tr>\n",
              "      <th>0</th>\n",
              "      <td>Joao</td>\n",
              "      <td>2.9</td>\n",
              "      <td>Math</td>\n",
              "      <td>3</td>\n",
              "    </tr>\n",
              "  </tbody>\n",
              "</table>\n",
              "</div>\n",
              "      <button class=\"colab-df-convert\" onclick=\"convertToInteractive('df-3135e599-4816-433b-bffe-1c53d5f8728a')\"\n",
              "              title=\"Convert this dataframe to an interactive table.\"\n",
              "              style=\"display:none;\">\n",
              "        \n",
              "  <svg xmlns=\"http://www.w3.org/2000/svg\" height=\"24px\"viewBox=\"0 0 24 24\"\n",
              "       width=\"24px\">\n",
              "    <path d=\"M0 0h24v24H0V0z\" fill=\"none\"/>\n",
              "    <path d=\"M18.56 5.44l.94 2.06.94-2.06 2.06-.94-2.06-.94-.94-2.06-.94 2.06-2.06.94zm-11 1L8.5 8.5l.94-2.06 2.06-.94-2.06-.94L8.5 2.5l-.94 2.06-2.06.94zm10 10l.94 2.06.94-2.06 2.06-.94-2.06-.94-.94-2.06-.94 2.06-2.06.94z\"/><path d=\"M17.41 7.96l-1.37-1.37c-.4-.4-.92-.59-1.43-.59-.52 0-1.04.2-1.43.59L10.3 9.45l-7.72 7.72c-.78.78-.78 2.05 0 2.83L4 21.41c.39.39.9.59 1.41.59.51 0 1.02-.2 1.41-.59l7.78-7.78 2.81-2.81c.8-.78.8-2.07 0-2.86zM5.41 20L4 18.59l7.72-7.72 1.47 1.35L5.41 20z\"/>\n",
              "  </svg>\n",
              "      </button>\n",
              "      \n",
              "  <style>\n",
              "    .colab-df-container {\n",
              "      display:flex;\n",
              "      flex-wrap:wrap;\n",
              "      gap: 12px;\n",
              "    }\n",
              "\n",
              "    .colab-df-convert {\n",
              "      background-color: #E8F0FE;\n",
              "      border: none;\n",
              "      border-radius: 50%;\n",
              "      cursor: pointer;\n",
              "      display: none;\n",
              "      fill: #1967D2;\n",
              "      height: 32px;\n",
              "      padding: 0 0 0 0;\n",
              "      width: 32px;\n",
              "    }\n",
              "\n",
              "    .colab-df-convert:hover {\n",
              "      background-color: #E2EBFA;\n",
              "      box-shadow: 0px 1px 2px rgba(60, 64, 67, 0.3), 0px 1px 3px 1px rgba(60, 64, 67, 0.15);\n",
              "      fill: #174EA6;\n",
              "    }\n",
              "\n",
              "    [theme=dark] .colab-df-convert {\n",
              "      background-color: #3B4455;\n",
              "      fill: #D2E3FC;\n",
              "    }\n",
              "\n",
              "    [theme=dark] .colab-df-convert:hover {\n",
              "      background-color: #434B5C;\n",
              "      box-shadow: 0px 1px 3px 1px rgba(0, 0, 0, 0.15);\n",
              "      filter: drop-shadow(0px 1px 2px rgba(0, 0, 0, 0.3));\n",
              "      fill: #FFFFFF;\n",
              "    }\n",
              "  </style>\n",
              "\n",
              "      <script>\n",
              "        const buttonEl =\n",
              "          document.querySelector('#df-3135e599-4816-433b-bffe-1c53d5f8728a button.colab-df-convert');\n",
              "        buttonEl.style.display =\n",
              "          google.colab.kernel.accessAllowed ? 'block' : 'none';\n",
              "\n",
              "        async function convertToInteractive(key) {\n",
              "          const element = document.querySelector('#df-3135e599-4816-433b-bffe-1c53d5f8728a');\n",
              "          const dataTable =\n",
              "            await google.colab.kernel.invokeFunction('convertToInteractive',\n",
              "                                                     [key], {});\n",
              "          if (!dataTable) return;\n",
              "\n",
              "          const docLinkHtml = 'Like what you see? Visit the ' +\n",
              "            '<a target=\"_blank\" href=https://colab.research.google.com/notebooks/data_table.ipynb>data table notebook</a>'\n",
              "            + ' to learn more about interactive tables.';\n",
              "          element.innerHTML = '';\n",
              "          dataTable['output_type'] = 'display_data';\n",
              "          await google.colab.output.renderOutput(dataTable, element);\n",
              "          const docLink = document.createElement('div');\n",
              "          docLink.innerHTML = docLinkHtml;\n",
              "          element.appendChild(docLink);\n",
              "        }\n",
              "      </script>\n",
              "    </div>\n",
              "  </div>\n",
              "  "
            ]
          },
          "metadata": {},
          "execution_count": 41
        }
      ]
    },
    {
      "cell_type": "code",
      "source": [
        "# Saving the modifications with SQLITE\n",
        "\n",
        "conn.commit()"
      ],
      "metadata": {
        "id": "DF7zs7WxvSJ-"
      },
      "execution_count": 42,
      "outputs": []
    },
    {
      "cell_type": "code",
      "source": [
        "cur.execute('''INSERT INTO Students VALUES \n",
        "            ('Marcio', 2.9, 'Math', 3),\n",
        "            ('Maria', 3.9, 'Math', 3),\n",
        "            ('Carlos', 2.5, 'Math', 3),\n",
        "            ('Antonio', 2.7, 'Math', 3),\n",
        "            ('Joao Cleber', 3.5, 'Math', 3)''')  # note that you can use ''' instead of \\ every line\n",
        "\n",
        "cur.execute(\"Select * FROM Students\")\n",
        "\n",
        "display_as_table(cur.fetchall(), cur.description)"
      ],
      "metadata": {
        "colab": {
          "base_uri": "https://localhost:8080/",
          "height": 237
        },
        "id": "GCQYhZAovbxN",
        "outputId": "ad866813-f414-407e-9751-703b94d52a42"
      },
      "execution_count": 43,
      "outputs": [
        {
          "output_type": "execute_result",
          "data": {
            "text/plain": [
              "          Name  GPA Major  Year\n",
              "0         Joao  2.9  Math     3\n",
              "1       Marcio  2.9  Math     3\n",
              "2        Maria  3.9  Math     3\n",
              "3       Carlos  2.5  Math     3\n",
              "4      Antonio  2.7  Math     3\n",
              "5  Joao Cleber  3.5  Math     3"
            ],
            "text/html": [
              "\n",
              "  <div id=\"df-dc291f9b-2c13-460c-96b6-09e119649752\">\n",
              "    <div class=\"colab-df-container\">\n",
              "      <div>\n",
              "<style scoped>\n",
              "    .dataframe tbody tr th:only-of-type {\n",
              "        vertical-align: middle;\n",
              "    }\n",
              "\n",
              "    .dataframe tbody tr th {\n",
              "        vertical-align: top;\n",
              "    }\n",
              "\n",
              "    .dataframe thead th {\n",
              "        text-align: right;\n",
              "    }\n",
              "</style>\n",
              "<table border=\"1\" class=\"dataframe\">\n",
              "  <thead>\n",
              "    <tr style=\"text-align: right;\">\n",
              "      <th></th>\n",
              "      <th>Name</th>\n",
              "      <th>GPA</th>\n",
              "      <th>Major</th>\n",
              "      <th>Year</th>\n",
              "    </tr>\n",
              "  </thead>\n",
              "  <tbody>\n",
              "    <tr>\n",
              "      <th>0</th>\n",
              "      <td>Joao</td>\n",
              "      <td>2.9</td>\n",
              "      <td>Math</td>\n",
              "      <td>3</td>\n",
              "    </tr>\n",
              "    <tr>\n",
              "      <th>1</th>\n",
              "      <td>Marcio</td>\n",
              "      <td>2.9</td>\n",
              "      <td>Math</td>\n",
              "      <td>3</td>\n",
              "    </tr>\n",
              "    <tr>\n",
              "      <th>2</th>\n",
              "      <td>Maria</td>\n",
              "      <td>3.9</td>\n",
              "      <td>Math</td>\n",
              "      <td>3</td>\n",
              "    </tr>\n",
              "    <tr>\n",
              "      <th>3</th>\n",
              "      <td>Carlos</td>\n",
              "      <td>2.5</td>\n",
              "      <td>Math</td>\n",
              "      <td>3</td>\n",
              "    </tr>\n",
              "    <tr>\n",
              "      <th>4</th>\n",
              "      <td>Antonio</td>\n",
              "      <td>2.7</td>\n",
              "      <td>Math</td>\n",
              "      <td>3</td>\n",
              "    </tr>\n",
              "    <tr>\n",
              "      <th>5</th>\n",
              "      <td>Joao Cleber</td>\n",
              "      <td>3.5</td>\n",
              "      <td>Math</td>\n",
              "      <td>3</td>\n",
              "    </tr>\n",
              "  </tbody>\n",
              "</table>\n",
              "</div>\n",
              "      <button class=\"colab-df-convert\" onclick=\"convertToInteractive('df-dc291f9b-2c13-460c-96b6-09e119649752')\"\n",
              "              title=\"Convert this dataframe to an interactive table.\"\n",
              "              style=\"display:none;\">\n",
              "        \n",
              "  <svg xmlns=\"http://www.w3.org/2000/svg\" height=\"24px\"viewBox=\"0 0 24 24\"\n",
              "       width=\"24px\">\n",
              "    <path d=\"M0 0h24v24H0V0z\" fill=\"none\"/>\n",
              "    <path d=\"M18.56 5.44l.94 2.06.94-2.06 2.06-.94-2.06-.94-.94-2.06-.94 2.06-2.06.94zm-11 1L8.5 8.5l.94-2.06 2.06-.94-2.06-.94L8.5 2.5l-.94 2.06-2.06.94zm10 10l.94 2.06.94-2.06 2.06-.94-2.06-.94-.94-2.06-.94 2.06-2.06.94z\"/><path d=\"M17.41 7.96l-1.37-1.37c-.4-.4-.92-.59-1.43-.59-.52 0-1.04.2-1.43.59L10.3 9.45l-7.72 7.72c-.78.78-.78 2.05 0 2.83L4 21.41c.39.39.9.59 1.41.59.51 0 1.02-.2 1.41-.59l7.78-7.78 2.81-2.81c.8-.78.8-2.07 0-2.86zM5.41 20L4 18.59l7.72-7.72 1.47 1.35L5.41 20z\"/>\n",
              "  </svg>\n",
              "      </button>\n",
              "      \n",
              "  <style>\n",
              "    .colab-df-container {\n",
              "      display:flex;\n",
              "      flex-wrap:wrap;\n",
              "      gap: 12px;\n",
              "    }\n",
              "\n",
              "    .colab-df-convert {\n",
              "      background-color: #E8F0FE;\n",
              "      border: none;\n",
              "      border-radius: 50%;\n",
              "      cursor: pointer;\n",
              "      display: none;\n",
              "      fill: #1967D2;\n",
              "      height: 32px;\n",
              "      padding: 0 0 0 0;\n",
              "      width: 32px;\n",
              "    }\n",
              "\n",
              "    .colab-df-convert:hover {\n",
              "      background-color: #E2EBFA;\n",
              "      box-shadow: 0px 1px 2px rgba(60, 64, 67, 0.3), 0px 1px 3px 1px rgba(60, 64, 67, 0.15);\n",
              "      fill: #174EA6;\n",
              "    }\n",
              "\n",
              "    [theme=dark] .colab-df-convert {\n",
              "      background-color: #3B4455;\n",
              "      fill: #D2E3FC;\n",
              "    }\n",
              "\n",
              "    [theme=dark] .colab-df-convert:hover {\n",
              "      background-color: #434B5C;\n",
              "      box-shadow: 0px 1px 3px 1px rgba(0, 0, 0, 0.15);\n",
              "      filter: drop-shadow(0px 1px 2px rgba(0, 0, 0, 0.3));\n",
              "      fill: #FFFFFF;\n",
              "    }\n",
              "  </style>\n",
              "\n",
              "      <script>\n",
              "        const buttonEl =\n",
              "          document.querySelector('#df-dc291f9b-2c13-460c-96b6-09e119649752 button.colab-df-convert');\n",
              "        buttonEl.style.display =\n",
              "          google.colab.kernel.accessAllowed ? 'block' : 'none';\n",
              "\n",
              "        async function convertToInteractive(key) {\n",
              "          const element = document.querySelector('#df-dc291f9b-2c13-460c-96b6-09e119649752');\n",
              "          const dataTable =\n",
              "            await google.colab.kernel.invokeFunction('convertToInteractive',\n",
              "                                                     [key], {});\n",
              "          if (!dataTable) return;\n",
              "\n",
              "          const docLinkHtml = 'Like what you see? Visit the ' +\n",
              "            '<a target=\"_blank\" href=https://colab.research.google.com/notebooks/data_table.ipynb>data table notebook</a>'\n",
              "            + ' to learn more about interactive tables.';\n",
              "          element.innerHTML = '';\n",
              "          dataTable['output_type'] = 'display_data';\n",
              "          await google.colab.output.renderOutput(dataTable, element);\n",
              "          const docLink = document.createElement('div');\n",
              "          docLink.innerHTML = docLinkHtml;\n",
              "          element.appendChild(docLink);\n",
              "        }\n",
              "      </script>\n",
              "    </div>\n",
              "  </div>\n",
              "  "
            ]
          },
          "metadata": {},
          "execution_count": 43
        }
      ]
    },
    {
      "cell_type": "code",
      "source": [
        "conn.commit()"
      ],
      "metadata": {
        "id": "rLaFo1Jjv3rN"
      },
      "execution_count": 44,
      "outputs": []
    },
    {
      "cell_type": "code",
      "source": [
        "# Returning the results with GPA greater than 3\n",
        "\n",
        "statement = \" \\\n",
        "  SELECT Name, Major, GPA \\\n",
        "  FROM Students \\\n",
        "  WHERE GPA > 3.0; \\\n",
        "\"\n",
        "\n",
        "cur.execute(statement)\n",
        "display_as_table(cur.fetchall(), cur.description)"
      ],
      "metadata": {
        "colab": {
          "base_uri": "https://localhost:8080/",
          "height": 112
        },
        "id": "Cny-MYpLwFbp",
        "outputId": "88a46d22-b63a-4e11-8273-df2fc3e8ad65"
      },
      "execution_count": 45,
      "outputs": [
        {
          "output_type": "execute_result",
          "data": {
            "text/plain": [
              "          Name Major  GPA\n",
              "0        Maria  Math  3.9\n",
              "1  Joao Cleber  Math  3.5"
            ],
            "text/html": [
              "\n",
              "  <div id=\"df-21861d15-6329-4b8e-ba89-bdd4737acb33\">\n",
              "    <div class=\"colab-df-container\">\n",
              "      <div>\n",
              "<style scoped>\n",
              "    .dataframe tbody tr th:only-of-type {\n",
              "        vertical-align: middle;\n",
              "    }\n",
              "\n",
              "    .dataframe tbody tr th {\n",
              "        vertical-align: top;\n",
              "    }\n",
              "\n",
              "    .dataframe thead th {\n",
              "        text-align: right;\n",
              "    }\n",
              "</style>\n",
              "<table border=\"1\" class=\"dataframe\">\n",
              "  <thead>\n",
              "    <tr style=\"text-align: right;\">\n",
              "      <th></th>\n",
              "      <th>Name</th>\n",
              "      <th>Major</th>\n",
              "      <th>GPA</th>\n",
              "    </tr>\n",
              "  </thead>\n",
              "  <tbody>\n",
              "    <tr>\n",
              "      <th>0</th>\n",
              "      <td>Maria</td>\n",
              "      <td>Math</td>\n",
              "      <td>3.9</td>\n",
              "    </tr>\n",
              "    <tr>\n",
              "      <th>1</th>\n",
              "      <td>Joao Cleber</td>\n",
              "      <td>Math</td>\n",
              "      <td>3.5</td>\n",
              "    </tr>\n",
              "  </tbody>\n",
              "</table>\n",
              "</div>\n",
              "      <button class=\"colab-df-convert\" onclick=\"convertToInteractive('df-21861d15-6329-4b8e-ba89-bdd4737acb33')\"\n",
              "              title=\"Convert this dataframe to an interactive table.\"\n",
              "              style=\"display:none;\">\n",
              "        \n",
              "  <svg xmlns=\"http://www.w3.org/2000/svg\" height=\"24px\"viewBox=\"0 0 24 24\"\n",
              "       width=\"24px\">\n",
              "    <path d=\"M0 0h24v24H0V0z\" fill=\"none\"/>\n",
              "    <path d=\"M18.56 5.44l.94 2.06.94-2.06 2.06-.94-2.06-.94-.94-2.06-.94 2.06-2.06.94zm-11 1L8.5 8.5l.94-2.06 2.06-.94-2.06-.94L8.5 2.5l-.94 2.06-2.06.94zm10 10l.94 2.06.94-2.06 2.06-.94-2.06-.94-.94-2.06-.94 2.06-2.06.94z\"/><path d=\"M17.41 7.96l-1.37-1.37c-.4-.4-.92-.59-1.43-.59-.52 0-1.04.2-1.43.59L10.3 9.45l-7.72 7.72c-.78.78-.78 2.05 0 2.83L4 21.41c.39.39.9.59 1.41.59.51 0 1.02-.2 1.41-.59l7.78-7.78 2.81-2.81c.8-.78.8-2.07 0-2.86zM5.41 20L4 18.59l7.72-7.72 1.47 1.35L5.41 20z\"/>\n",
              "  </svg>\n",
              "      </button>\n",
              "      \n",
              "  <style>\n",
              "    .colab-df-container {\n",
              "      display:flex;\n",
              "      flex-wrap:wrap;\n",
              "      gap: 12px;\n",
              "    }\n",
              "\n",
              "    .colab-df-convert {\n",
              "      background-color: #E8F0FE;\n",
              "      border: none;\n",
              "      border-radius: 50%;\n",
              "      cursor: pointer;\n",
              "      display: none;\n",
              "      fill: #1967D2;\n",
              "      height: 32px;\n",
              "      padding: 0 0 0 0;\n",
              "      width: 32px;\n",
              "    }\n",
              "\n",
              "    .colab-df-convert:hover {\n",
              "      background-color: #E2EBFA;\n",
              "      box-shadow: 0px 1px 2px rgba(60, 64, 67, 0.3), 0px 1px 3px 1px rgba(60, 64, 67, 0.15);\n",
              "      fill: #174EA6;\n",
              "    }\n",
              "\n",
              "    [theme=dark] .colab-df-convert {\n",
              "      background-color: #3B4455;\n",
              "      fill: #D2E3FC;\n",
              "    }\n",
              "\n",
              "    [theme=dark] .colab-df-convert:hover {\n",
              "      background-color: #434B5C;\n",
              "      box-shadow: 0px 1px 3px 1px rgba(0, 0, 0, 0.15);\n",
              "      filter: drop-shadow(0px 1px 2px rgba(0, 0, 0, 0.3));\n",
              "      fill: #FFFFFF;\n",
              "    }\n",
              "  </style>\n",
              "\n",
              "      <script>\n",
              "        const buttonEl =\n",
              "          document.querySelector('#df-21861d15-6329-4b8e-ba89-bdd4737acb33 button.colab-df-convert');\n",
              "        buttonEl.style.display =\n",
              "          google.colab.kernel.accessAllowed ? 'block' : 'none';\n",
              "\n",
              "        async function convertToInteractive(key) {\n",
              "          const element = document.querySelector('#df-21861d15-6329-4b8e-ba89-bdd4737acb33');\n",
              "          const dataTable =\n",
              "            await google.colab.kernel.invokeFunction('convertToInteractive',\n",
              "                                                     [key], {});\n",
              "          if (!dataTable) return;\n",
              "\n",
              "          const docLinkHtml = 'Like what you see? Visit the ' +\n",
              "            '<a target=\"_blank\" href=https://colab.research.google.com/notebooks/data_table.ipynb>data table notebook</a>'\n",
              "            + ' to learn more about interactive tables.';\n",
              "          element.innerHTML = '';\n",
              "          dataTable['output_type'] = 'display_data';\n",
              "          await google.colab.output.renderOutput(dataTable, element);\n",
              "          const docLink = document.createElement('div');\n",
              "          docLink.innerHTML = docLinkHtml;\n",
              "          element.appendChild(docLink);\n",
              "        }\n",
              "      </script>\n",
              "    </div>\n",
              "  </div>\n",
              "  "
            ]
          },
          "metadata": {},
          "execution_count": 45
        }
      ]
    },
    {
      "cell_type": "code",
      "source": [
        "# Inserting into certain columns\n",
        "\n",
        "statement = \" \\\n",
        "  INSERT INTO Students(Name, Major, Year) VALUES ('Maul', 'Math', 1); \"\n",
        "\n",
        "cur.execute(statement)\n",
        "cur.execute(\"SELECT * FROM Students\")\n",
        "\n",
        "display_as_table(cur.fetchall(), cur.description)\n",
        "\n",
        "conn.commit()"
      ],
      "metadata": {
        "id": "QXzmTAC2wlxu"
      },
      "execution_count": 46,
      "outputs": []
    },
    {
      "cell_type": "code",
      "source": [
        "# Getting students with null GPA\n",
        "\n",
        "statement = \" \\\n",
        "  SELECT Name \\\n",
        "  FROM Students \\\n",
        "  WHERE GPA IS NULL; \"\n",
        "\n",
        "cur.execute(statement)\n",
        "\n",
        "display_as_table(cur.fetchall(), cur.description)"
      ],
      "metadata": {
        "colab": {
          "base_uri": "https://localhost:8080/",
          "height": 81
        },
        "id": "6l2S_dLMxYVQ",
        "outputId": "164daceb-2f57-4322-b24a-aa9d54db3a2c"
      },
      "execution_count": 47,
      "outputs": [
        {
          "output_type": "execute_result",
          "data": {
            "text/plain": [
              "   Name\n",
              "0  Maul"
            ],
            "text/html": [
              "\n",
              "  <div id=\"df-7d97d191-dabf-40b7-9e00-a29bbd82be6a\">\n",
              "    <div class=\"colab-df-container\">\n",
              "      <div>\n",
              "<style scoped>\n",
              "    .dataframe tbody tr th:only-of-type {\n",
              "        vertical-align: middle;\n",
              "    }\n",
              "\n",
              "    .dataframe tbody tr th {\n",
              "        vertical-align: top;\n",
              "    }\n",
              "\n",
              "    .dataframe thead th {\n",
              "        text-align: right;\n",
              "    }\n",
              "</style>\n",
              "<table border=\"1\" class=\"dataframe\">\n",
              "  <thead>\n",
              "    <tr style=\"text-align: right;\">\n",
              "      <th></th>\n",
              "      <th>Name</th>\n",
              "    </tr>\n",
              "  </thead>\n",
              "  <tbody>\n",
              "    <tr>\n",
              "      <th>0</th>\n",
              "      <td>Maul</td>\n",
              "    </tr>\n",
              "  </tbody>\n",
              "</table>\n",
              "</div>\n",
              "      <button class=\"colab-df-convert\" onclick=\"convertToInteractive('df-7d97d191-dabf-40b7-9e00-a29bbd82be6a')\"\n",
              "              title=\"Convert this dataframe to an interactive table.\"\n",
              "              style=\"display:none;\">\n",
              "        \n",
              "  <svg xmlns=\"http://www.w3.org/2000/svg\" height=\"24px\"viewBox=\"0 0 24 24\"\n",
              "       width=\"24px\">\n",
              "    <path d=\"M0 0h24v24H0V0z\" fill=\"none\"/>\n",
              "    <path d=\"M18.56 5.44l.94 2.06.94-2.06 2.06-.94-2.06-.94-.94-2.06-.94 2.06-2.06.94zm-11 1L8.5 8.5l.94-2.06 2.06-.94-2.06-.94L8.5 2.5l-.94 2.06-2.06.94zm10 10l.94 2.06.94-2.06 2.06-.94-2.06-.94-.94-2.06-.94 2.06-2.06.94z\"/><path d=\"M17.41 7.96l-1.37-1.37c-.4-.4-.92-.59-1.43-.59-.52 0-1.04.2-1.43.59L10.3 9.45l-7.72 7.72c-.78.78-.78 2.05 0 2.83L4 21.41c.39.39.9.59 1.41.59.51 0 1.02-.2 1.41-.59l7.78-7.78 2.81-2.81c.8-.78.8-2.07 0-2.86zM5.41 20L4 18.59l7.72-7.72 1.47 1.35L5.41 20z\"/>\n",
              "  </svg>\n",
              "      </button>\n",
              "      \n",
              "  <style>\n",
              "    .colab-df-container {\n",
              "      display:flex;\n",
              "      flex-wrap:wrap;\n",
              "      gap: 12px;\n",
              "    }\n",
              "\n",
              "    .colab-df-convert {\n",
              "      background-color: #E8F0FE;\n",
              "      border: none;\n",
              "      border-radius: 50%;\n",
              "      cursor: pointer;\n",
              "      display: none;\n",
              "      fill: #1967D2;\n",
              "      height: 32px;\n",
              "      padding: 0 0 0 0;\n",
              "      width: 32px;\n",
              "    }\n",
              "\n",
              "    .colab-df-convert:hover {\n",
              "      background-color: #E2EBFA;\n",
              "      box-shadow: 0px 1px 2px rgba(60, 64, 67, 0.3), 0px 1px 3px 1px rgba(60, 64, 67, 0.15);\n",
              "      fill: #174EA6;\n",
              "    }\n",
              "\n",
              "    [theme=dark] .colab-df-convert {\n",
              "      background-color: #3B4455;\n",
              "      fill: #D2E3FC;\n",
              "    }\n",
              "\n",
              "    [theme=dark] .colab-df-convert:hover {\n",
              "      background-color: #434B5C;\n",
              "      box-shadow: 0px 1px 3px 1px rgba(0, 0, 0, 0.15);\n",
              "      filter: drop-shadow(0px 1px 2px rgba(0, 0, 0, 0.3));\n",
              "      fill: #FFFFFF;\n",
              "    }\n",
              "  </style>\n",
              "\n",
              "      <script>\n",
              "        const buttonEl =\n",
              "          document.querySelector('#df-7d97d191-dabf-40b7-9e00-a29bbd82be6a button.colab-df-convert');\n",
              "        buttonEl.style.display =\n",
              "          google.colab.kernel.accessAllowed ? 'block' : 'none';\n",
              "\n",
              "        async function convertToInteractive(key) {\n",
              "          const element = document.querySelector('#df-7d97d191-dabf-40b7-9e00-a29bbd82be6a');\n",
              "          const dataTable =\n",
              "            await google.colab.kernel.invokeFunction('convertToInteractive',\n",
              "                                                     [key], {});\n",
              "          if (!dataTable) return;\n",
              "\n",
              "          const docLinkHtml = 'Like what you see? Visit the ' +\n",
              "            '<a target=\"_blank\" href=https://colab.research.google.com/notebooks/data_table.ipynb>data table notebook</a>'\n",
              "            + ' to learn more about interactive tables.';\n",
              "          element.innerHTML = '';\n",
              "          dataTable['output_type'] = 'display_data';\n",
              "          await google.colab.output.renderOutput(dataTable, element);\n",
              "          const docLink = document.createElement('div');\n",
              "          docLink.innerHTML = docLinkHtml;\n",
              "          element.appendChild(docLink);\n",
              "        }\n",
              "      </script>\n",
              "    </div>\n",
              "  </div>\n",
              "  "
            ]
          },
          "metadata": {},
          "execution_count": 47
        }
      ]
    },
    {
      "cell_type": "markdown",
      "source": [
        "**INSERT records from another table**"
      ],
      "metadata": {
        "id": "WVeb0DcTxujf"
      }
    },
    {
      "cell_type": "code",
      "source": [
        "# Creating a second table\n",
        "cur.execute(\"CREATE TABLE IF NOT EXISTS NewStudents(Name text, GPA float, Major text, Year integer)\")\n",
        "cur.execute('''INSERT INTO NewStudents VALUES \n",
        "            ('Jessica', 2.0, 'Physics', 1),\n",
        "            ('Tarcisio', 4.0, 'History', 2)''')\n",
        "\n",
        "cur.execute(\"INSERT INTO Students SELECT * FROM NewStudents\")\n",
        "\n",
        "cur.execute(\"SELECT * FROM Students\")\n",
        "display_as_table(cur.fetchall(), cur.description)"
      ],
      "metadata": {
        "colab": {
          "base_uri": "https://localhost:8080/",
          "height": 331
        },
        "id": "pNgff3G-yqZe",
        "outputId": "010686b2-c0f2-46ac-9ec8-6341187ceb83"
      },
      "execution_count": 48,
      "outputs": [
        {
          "output_type": "execute_result",
          "data": {
            "text/plain": [
              "          Name  GPA    Major  Year\n",
              "0         Joao  2.9     Math     3\n",
              "1       Marcio  2.9     Math     3\n",
              "2        Maria  3.9     Math     3\n",
              "3       Carlos  2.5     Math     3\n",
              "4      Antonio  2.7     Math     3\n",
              "5  Joao Cleber  3.5     Math     3\n",
              "6         Maul  NaN     Math     1\n",
              "7      Jessica  2.0  Physics     1\n",
              "8     Tarcisio  4.0  History     2"
            ],
            "text/html": [
              "\n",
              "  <div id=\"df-18ceaa27-1b11-4664-8819-265f5ec08fc2\">\n",
              "    <div class=\"colab-df-container\">\n",
              "      <div>\n",
              "<style scoped>\n",
              "    .dataframe tbody tr th:only-of-type {\n",
              "        vertical-align: middle;\n",
              "    }\n",
              "\n",
              "    .dataframe tbody tr th {\n",
              "        vertical-align: top;\n",
              "    }\n",
              "\n",
              "    .dataframe thead th {\n",
              "        text-align: right;\n",
              "    }\n",
              "</style>\n",
              "<table border=\"1\" class=\"dataframe\">\n",
              "  <thead>\n",
              "    <tr style=\"text-align: right;\">\n",
              "      <th></th>\n",
              "      <th>Name</th>\n",
              "      <th>GPA</th>\n",
              "      <th>Major</th>\n",
              "      <th>Year</th>\n",
              "    </tr>\n",
              "  </thead>\n",
              "  <tbody>\n",
              "    <tr>\n",
              "      <th>0</th>\n",
              "      <td>Joao</td>\n",
              "      <td>2.9</td>\n",
              "      <td>Math</td>\n",
              "      <td>3</td>\n",
              "    </tr>\n",
              "    <tr>\n",
              "      <th>1</th>\n",
              "      <td>Marcio</td>\n",
              "      <td>2.9</td>\n",
              "      <td>Math</td>\n",
              "      <td>3</td>\n",
              "    </tr>\n",
              "    <tr>\n",
              "      <th>2</th>\n",
              "      <td>Maria</td>\n",
              "      <td>3.9</td>\n",
              "      <td>Math</td>\n",
              "      <td>3</td>\n",
              "    </tr>\n",
              "    <tr>\n",
              "      <th>3</th>\n",
              "      <td>Carlos</td>\n",
              "      <td>2.5</td>\n",
              "      <td>Math</td>\n",
              "      <td>3</td>\n",
              "    </tr>\n",
              "    <tr>\n",
              "      <th>4</th>\n",
              "      <td>Antonio</td>\n",
              "      <td>2.7</td>\n",
              "      <td>Math</td>\n",
              "      <td>3</td>\n",
              "    </tr>\n",
              "    <tr>\n",
              "      <th>5</th>\n",
              "      <td>Joao Cleber</td>\n",
              "      <td>3.5</td>\n",
              "      <td>Math</td>\n",
              "      <td>3</td>\n",
              "    </tr>\n",
              "    <tr>\n",
              "      <th>6</th>\n",
              "      <td>Maul</td>\n",
              "      <td>NaN</td>\n",
              "      <td>Math</td>\n",
              "      <td>1</td>\n",
              "    </tr>\n",
              "    <tr>\n",
              "      <th>7</th>\n",
              "      <td>Jessica</td>\n",
              "      <td>2.0</td>\n",
              "      <td>Physics</td>\n",
              "      <td>1</td>\n",
              "    </tr>\n",
              "    <tr>\n",
              "      <th>8</th>\n",
              "      <td>Tarcisio</td>\n",
              "      <td>4.0</td>\n",
              "      <td>History</td>\n",
              "      <td>2</td>\n",
              "    </tr>\n",
              "  </tbody>\n",
              "</table>\n",
              "</div>\n",
              "      <button class=\"colab-df-convert\" onclick=\"convertToInteractive('df-18ceaa27-1b11-4664-8819-265f5ec08fc2')\"\n",
              "              title=\"Convert this dataframe to an interactive table.\"\n",
              "              style=\"display:none;\">\n",
              "        \n",
              "  <svg xmlns=\"http://www.w3.org/2000/svg\" height=\"24px\"viewBox=\"0 0 24 24\"\n",
              "       width=\"24px\">\n",
              "    <path d=\"M0 0h24v24H0V0z\" fill=\"none\"/>\n",
              "    <path d=\"M18.56 5.44l.94 2.06.94-2.06 2.06-.94-2.06-.94-.94-2.06-.94 2.06-2.06.94zm-11 1L8.5 8.5l.94-2.06 2.06-.94-2.06-.94L8.5 2.5l-.94 2.06-2.06.94zm10 10l.94 2.06.94-2.06 2.06-.94-2.06-.94-.94-2.06-.94 2.06-2.06.94z\"/><path d=\"M17.41 7.96l-1.37-1.37c-.4-.4-.92-.59-1.43-.59-.52 0-1.04.2-1.43.59L10.3 9.45l-7.72 7.72c-.78.78-.78 2.05 0 2.83L4 21.41c.39.39.9.59 1.41.59.51 0 1.02-.2 1.41-.59l7.78-7.78 2.81-2.81c.8-.78.8-2.07 0-2.86zM5.41 20L4 18.59l7.72-7.72 1.47 1.35L5.41 20z\"/>\n",
              "  </svg>\n",
              "      </button>\n",
              "      \n",
              "  <style>\n",
              "    .colab-df-container {\n",
              "      display:flex;\n",
              "      flex-wrap:wrap;\n",
              "      gap: 12px;\n",
              "    }\n",
              "\n",
              "    .colab-df-convert {\n",
              "      background-color: #E8F0FE;\n",
              "      border: none;\n",
              "      border-radius: 50%;\n",
              "      cursor: pointer;\n",
              "      display: none;\n",
              "      fill: #1967D2;\n",
              "      height: 32px;\n",
              "      padding: 0 0 0 0;\n",
              "      width: 32px;\n",
              "    }\n",
              "\n",
              "    .colab-df-convert:hover {\n",
              "      background-color: #E2EBFA;\n",
              "      box-shadow: 0px 1px 2px rgba(60, 64, 67, 0.3), 0px 1px 3px 1px rgba(60, 64, 67, 0.15);\n",
              "      fill: #174EA6;\n",
              "    }\n",
              "\n",
              "    [theme=dark] .colab-df-convert {\n",
              "      background-color: #3B4455;\n",
              "      fill: #D2E3FC;\n",
              "    }\n",
              "\n",
              "    [theme=dark] .colab-df-convert:hover {\n",
              "      background-color: #434B5C;\n",
              "      box-shadow: 0px 1px 3px 1px rgba(0, 0, 0, 0.15);\n",
              "      filter: drop-shadow(0px 1px 2px rgba(0, 0, 0, 0.3));\n",
              "      fill: #FFFFFF;\n",
              "    }\n",
              "  </style>\n",
              "\n",
              "      <script>\n",
              "        const buttonEl =\n",
              "          document.querySelector('#df-18ceaa27-1b11-4664-8819-265f5ec08fc2 button.colab-df-convert');\n",
              "        buttonEl.style.display =\n",
              "          google.colab.kernel.accessAllowed ? 'block' : 'none';\n",
              "\n",
              "        async function convertToInteractive(key) {\n",
              "          const element = document.querySelector('#df-18ceaa27-1b11-4664-8819-265f5ec08fc2');\n",
              "          const dataTable =\n",
              "            await google.colab.kernel.invokeFunction('convertToInteractive',\n",
              "                                                     [key], {});\n",
              "          if (!dataTable) return;\n",
              "\n",
              "          const docLinkHtml = 'Like what you see? Visit the ' +\n",
              "            '<a target=\"_blank\" href=https://colab.research.google.com/notebooks/data_table.ipynb>data table notebook</a>'\n",
              "            + ' to learn more about interactive tables.';\n",
              "          element.innerHTML = '';\n",
              "          dataTable['output_type'] = 'display_data';\n",
              "          await google.colab.output.renderOutput(dataTable, element);\n",
              "          const docLink = document.createElement('div');\n",
              "          docLink.innerHTML = docLinkHtml;\n",
              "          element.appendChild(docLink);\n",
              "        }\n",
              "      </script>\n",
              "    </div>\n",
              "  </div>\n",
              "  "
            ]
          },
          "metadata": {},
          "execution_count": 48
        }
      ]
    }
  ]
}