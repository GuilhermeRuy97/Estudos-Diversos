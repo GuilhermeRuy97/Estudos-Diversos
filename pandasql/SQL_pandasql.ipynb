{
  "nbformat": 4,
  "nbformat_minor": 0,
  "metadata": {
    "colab": {
      "name": "SQL_pandasql.ipynb",
      "provenance": [],
      "collapsed_sections": [
        "Qtq_ycVe9C1X",
        "UAvWopTKAEfW",
        "sD0ZKoUfBb7j",
        "F_rBHptbCOh-",
        "-RDaZLx6FiwT",
        "RBKtlBfHJgSZ",
        "fUGjgahMKcNg"
      ]
    },
    "kernelspec": {
      "name": "python3",
      "display_name": "Python 3"
    },
    "language_info": {
      "name": "python"
    }
  },
  "cells": [
    {
      "cell_type": "markdown",
      "source": [
        "# Utilizaçao do SQL através da biblioteca pandasql\n",
        "# Using pandasql to train SQL\n",
        "---\n",
        "Research fonts: \n",
        "1.   https://www.youtube.com/c/ritvikmath\n",
        "2.   https://pypi.org/project/pandasql/\n",
        "\n",
        "---"
      ],
      "metadata": {
        "id": "Qtq_ycVe9C1X"
      }
    },
    {
      "cell_type": "markdown",
      "source": [
        "# Import"
      ],
      "metadata": {
        "id": "UAvWopTKAEfW"
      }
    },
    {
      "cell_type": "code",
      "execution_count": 2,
      "metadata": {
        "colab": {
          "base_uri": "https://localhost:8080/"
        },
        "id": "ya_2cVNj8-8n",
        "outputId": "4d7aed64-99d2-466b-eb8a-2009fc2d3026"
      },
      "outputs": [
        {
          "output_type": "stream",
          "name": "stdout",
          "text": [
            "Looking in indexes: https://pypi.org/simple, https://us-python.pkg.dev/colab-wheels/public/simple/\n",
            "Collecting pandasql\n",
            "  Downloading pandasql-0.7.3.tar.gz (26 kB)\n",
            "Requirement already satisfied: numpy in /usr/local/lib/python3.7/dist-packages (from pandasql) (1.21.6)\n",
            "Requirement already satisfied: pandas in /usr/local/lib/python3.7/dist-packages (from pandasql) (1.3.5)\n",
            "Requirement already satisfied: sqlalchemy in /usr/local/lib/python3.7/dist-packages (from pandasql) (1.4.40)\n",
            "Requirement already satisfied: pytz>=2017.3 in /usr/local/lib/python3.7/dist-packages (from pandas->pandasql) (2022.1)\n",
            "Requirement already satisfied: python-dateutil>=2.7.3 in /usr/local/lib/python3.7/dist-packages (from pandas->pandasql) (2.8.2)\n",
            "Requirement already satisfied: six>=1.5 in /usr/local/lib/python3.7/dist-packages (from python-dateutil>=2.7.3->pandas->pandasql) (1.15.0)\n",
            "Requirement already satisfied: importlib-metadata in /usr/local/lib/python3.7/dist-packages (from sqlalchemy->pandasql) (4.12.0)\n",
            "Requirement already satisfied: greenlet!=0.4.17 in /usr/local/lib/python3.7/dist-packages (from sqlalchemy->pandasql) (1.1.2)\n",
            "Requirement already satisfied: zipp>=0.5 in /usr/local/lib/python3.7/dist-packages (from importlib-metadata->sqlalchemy->pandasql) (3.8.1)\n",
            "Requirement already satisfied: typing-extensions>=3.6.4 in /usr/local/lib/python3.7/dist-packages (from importlib-metadata->sqlalchemy->pandasql) (4.1.1)\n",
            "Building wheels for collected packages: pandasql\n",
            "  Building wheel for pandasql (setup.py) ... \u001b[?25l\u001b[?25hdone\n",
            "  Created wheel for pandasql: filename=pandasql-0.7.3-py3-none-any.whl size=26784 sha256=0e7cf0cdc2f8d5a79faec3e5b7d9319f93728ea83c4371afbd4f21f3972d6f83\n",
            "  Stored in directory: /root/.cache/pip/wheels/5c/4b/ec/41f4e116c8053c3654e2c2a47c62b4fca34cc67ef7b55deb7f\n",
            "Successfully built pandasql\n",
            "Installing collected packages: pandasql\n",
            "Successfully installed pandasql-0.7.3\n"
          ]
        }
      ],
      "source": [
        "# Ambient configuration\n",
        "\n",
        "# $ pip install -U pandasql\n",
        "# !pip install pandasql"
      ]
    },
    {
      "cell_type": "code",
      "source": [
        "# Required libraries\n",
        "\n",
        "import pandas as pd          # used to read the DataFrame\n",
        "import numpy  as np          # used to create the DataFrame\n",
        "\n",
        "from pandasql import sqldf"
      ],
      "metadata": {
        "id": "0dkX5ESV_rpq"
      },
      "execution_count": 5,
      "outputs": []
    },
    {
      "cell_type": "markdown",
      "source": [
        "# Data"
      ],
      "metadata": {
        "id": "0CSB0yTRAAqc"
      }
    },
    {
      "cell_type": "markdown",
      "source": [
        "This dataframe was created from imaginary data of students in a certain classroom"
      ],
      "metadata": {
        "id": "xMlORXluAoIu"
      }
    },
    {
      "cell_type": "code",
      "source": [
        "data = {'student'       : ['João', 'Ribeiro', 'Evaldo', 'Isaias', 'Jessyca','Anne','Luiz'],    \n",
        "        'idade'       : ['20', '29', '22', '21', '35', '32', '40'],    \n",
        "        'cidade'      : ['São Paulo', 'São João', 'Pinhal', 'Mococa', 'Poços', 'Botelhos', 'Pinhal'],\n",
        "        'aniversario' : ['021004', '030220', np.nan, '000420', '871212', '000101', np.nan] }\n",
        "\n",
        "df = pd.DataFrame(data)"
      ],
      "metadata": {
        "id": "qmewTOmBAjNc"
      },
      "execution_count": 6,
      "outputs": []
    },
    {
      "cell_type": "code",
      "source": [
        "# Data type correction\n",
        "\n",
        "df['aniversario'] = pd.to_datetime( df['aniversario'], format = '%y%m%d' )\n",
        "df['idade'] = df['idade'].astype(int)"
      ],
      "metadata": {
        "id": "09_nuTULBKbT"
      },
      "execution_count": 8,
      "outputs": []
    },
    {
      "cell_type": "code",
      "source": [
        "df"
      ],
      "metadata": {
        "colab": {
          "base_uri": "https://localhost:8080/",
          "height": 269
        },
        "id": "ooXxuvCLBDKO",
        "outputId": "9f4dc89d-d799-486e-af80-cb42e11a2107"
      },
      "execution_count": 90,
      "outputs": [
        {
          "output_type": "execute_result",
          "data": {
            "text/plain": [
              "     aluno  idade     cidade aniversario\n",
              "0     João     20  São Paulo  2002-10-04\n",
              "1  Ribeiro     29   São João  2003-02-20\n",
              "2   Evaldo     22     Pinhal         NaT\n",
              "3   Isaias     21     Mococa  2000-04-20\n",
              "4  Jessyca     35      Poços  1987-12-12\n",
              "5     Anne     32   Botelhos  2000-01-01\n",
              "6     Luiz     40     Pinhal         NaT"
            ],
            "text/html": [
              "\n",
              "  <div id=\"df-ee3f4bf7-9a60-4421-9d00-d0b47be3d64b\">\n",
              "    <div class=\"colab-df-container\">\n",
              "      <div>\n",
              "<style scoped>\n",
              "    .dataframe tbody tr th:only-of-type {\n",
              "        vertical-align: middle;\n",
              "    }\n",
              "\n",
              "    .dataframe tbody tr th {\n",
              "        vertical-align: top;\n",
              "    }\n",
              "\n",
              "    .dataframe thead th {\n",
              "        text-align: right;\n",
              "    }\n",
              "</style>\n",
              "<table border=\"1\" class=\"dataframe\">\n",
              "  <thead>\n",
              "    <tr style=\"text-align: right;\">\n",
              "      <th></th>\n",
              "      <th>aluno</th>\n",
              "      <th>idade</th>\n",
              "      <th>cidade</th>\n",
              "      <th>aniversario</th>\n",
              "    </tr>\n",
              "  </thead>\n",
              "  <tbody>\n",
              "    <tr>\n",
              "      <th>0</th>\n",
              "      <td>João</td>\n",
              "      <td>20</td>\n",
              "      <td>São Paulo</td>\n",
              "      <td>2002-10-04</td>\n",
              "    </tr>\n",
              "    <tr>\n",
              "      <th>1</th>\n",
              "      <td>Ribeiro</td>\n",
              "      <td>29</td>\n",
              "      <td>São João</td>\n",
              "      <td>2003-02-20</td>\n",
              "    </tr>\n",
              "    <tr>\n",
              "      <th>2</th>\n",
              "      <td>Evaldo</td>\n",
              "      <td>22</td>\n",
              "      <td>Pinhal</td>\n",
              "      <td>NaT</td>\n",
              "    </tr>\n",
              "    <tr>\n",
              "      <th>3</th>\n",
              "      <td>Isaias</td>\n",
              "      <td>21</td>\n",
              "      <td>Mococa</td>\n",
              "      <td>2000-04-20</td>\n",
              "    </tr>\n",
              "    <tr>\n",
              "      <th>4</th>\n",
              "      <td>Jessyca</td>\n",
              "      <td>35</td>\n",
              "      <td>Poços</td>\n",
              "      <td>1987-12-12</td>\n",
              "    </tr>\n",
              "    <tr>\n",
              "      <th>5</th>\n",
              "      <td>Anne</td>\n",
              "      <td>32</td>\n",
              "      <td>Botelhos</td>\n",
              "      <td>2000-01-01</td>\n",
              "    </tr>\n",
              "    <tr>\n",
              "      <th>6</th>\n",
              "      <td>Luiz</td>\n",
              "      <td>40</td>\n",
              "      <td>Pinhal</td>\n",
              "      <td>NaT</td>\n",
              "    </tr>\n",
              "  </tbody>\n",
              "</table>\n",
              "</div>\n",
              "      <button class=\"colab-df-convert\" onclick=\"convertToInteractive('df-ee3f4bf7-9a60-4421-9d00-d0b47be3d64b')\"\n",
              "              title=\"Convert this dataframe to an interactive table.\"\n",
              "              style=\"display:none;\">\n",
              "        \n",
              "  <svg xmlns=\"http://www.w3.org/2000/svg\" height=\"24px\"viewBox=\"0 0 24 24\"\n",
              "       width=\"24px\">\n",
              "    <path d=\"M0 0h24v24H0V0z\" fill=\"none\"/>\n",
              "    <path d=\"M18.56 5.44l.94 2.06.94-2.06 2.06-.94-2.06-.94-.94-2.06-.94 2.06-2.06.94zm-11 1L8.5 8.5l.94-2.06 2.06-.94-2.06-.94L8.5 2.5l-.94 2.06-2.06.94zm10 10l.94 2.06.94-2.06 2.06-.94-2.06-.94-.94-2.06-.94 2.06-2.06.94z\"/><path d=\"M17.41 7.96l-1.37-1.37c-.4-.4-.92-.59-1.43-.59-.52 0-1.04.2-1.43.59L10.3 9.45l-7.72 7.72c-.78.78-.78 2.05 0 2.83L4 21.41c.39.39.9.59 1.41.59.51 0 1.02-.2 1.41-.59l7.78-7.78 2.81-2.81c.8-.78.8-2.07 0-2.86zM5.41 20L4 18.59l7.72-7.72 1.47 1.35L5.41 20z\"/>\n",
              "  </svg>\n",
              "      </button>\n",
              "      \n",
              "  <style>\n",
              "    .colab-df-container {\n",
              "      display:flex;\n",
              "      flex-wrap:wrap;\n",
              "      gap: 12px;\n",
              "    }\n",
              "\n",
              "    .colab-df-convert {\n",
              "      background-color: #E8F0FE;\n",
              "      border: none;\n",
              "      border-radius: 50%;\n",
              "      cursor: pointer;\n",
              "      display: none;\n",
              "      fill: #1967D2;\n",
              "      height: 32px;\n",
              "      padding: 0 0 0 0;\n",
              "      width: 32px;\n",
              "    }\n",
              "\n",
              "    .colab-df-convert:hover {\n",
              "      background-color: #E2EBFA;\n",
              "      box-shadow: 0px 1px 2px rgba(60, 64, 67, 0.3), 0px 1px 3px 1px rgba(60, 64, 67, 0.15);\n",
              "      fill: #174EA6;\n",
              "    }\n",
              "\n",
              "    [theme=dark] .colab-df-convert {\n",
              "      background-color: #3B4455;\n",
              "      fill: #D2E3FC;\n",
              "    }\n",
              "\n",
              "    [theme=dark] .colab-df-convert:hover {\n",
              "      background-color: #434B5C;\n",
              "      box-shadow: 0px 1px 3px 1px rgba(0, 0, 0, 0.15);\n",
              "      filter: drop-shadow(0px 1px 2px rgba(0, 0, 0, 0.3));\n",
              "      fill: #FFFFFF;\n",
              "    }\n",
              "  </style>\n",
              "\n",
              "      <script>\n",
              "        const buttonEl =\n",
              "          document.querySelector('#df-ee3f4bf7-9a60-4421-9d00-d0b47be3d64b button.colab-df-convert');\n",
              "        buttonEl.style.display =\n",
              "          google.colab.kernel.accessAllowed ? 'block' : 'none';\n",
              "\n",
              "        async function convertToInteractive(key) {\n",
              "          const element = document.querySelector('#df-ee3f4bf7-9a60-4421-9d00-d0b47be3d64b');\n",
              "          const dataTable =\n",
              "            await google.colab.kernel.invokeFunction('convertToInteractive',\n",
              "                                                     [key], {});\n",
              "          if (!dataTable) return;\n",
              "\n",
              "          const docLinkHtml = 'Like what you see? Visit the ' +\n",
              "            '<a target=\"_blank\" href=https://colab.research.google.com/notebooks/data_table.ipynb>data table notebook</a>'\n",
              "            + ' to learn more about interactive tables.';\n",
              "          element.innerHTML = '';\n",
              "          dataTable['output_type'] = 'display_data';\n",
              "          await google.colab.output.renderOutput(dataTable, element);\n",
              "          const docLink = document.createElement('div');\n",
              "          docLink.innerHTML = docLinkHtml;\n",
              "          element.appendChild(docLink);\n",
              "        }\n",
              "      </script>\n",
              "    </div>\n",
              "  </div>\n",
              "  "
            ]
          },
          "metadata": {},
          "execution_count": 90
        }
      ]
    },
    {
      "cell_type": "code",
      "source": [
        "data_empregados = {'aluno'       : ['João', 'Ribeiro', 'Isaias','Anne','Luiz'],    \n",
        "                   'emprego'     : ['Mecanico', 'Mecanico', 'Farmaceutico', 'Professor', 'Enfermeiro'],    \n",
        "                  }\n",
        "\n",
        "df2 = pd.DataFrame(data_empregados)"
      ],
      "metadata": {
        "id": "73-1zMyGa6-a"
      },
      "execution_count": 94,
      "outputs": []
    },
    {
      "cell_type": "code",
      "source": [
        "df2"
      ],
      "metadata": {
        "colab": {
          "base_uri": "https://localhost:8080/",
          "height": 206
        },
        "id": "53oX2gCVbXi3",
        "outputId": "2eb74a7c-8b8b-42ec-ecc6-e583a4ecf7b4"
      },
      "execution_count": 95,
      "outputs": [
        {
          "output_type": "execute_result",
          "data": {
            "text/plain": [
              "     aluno       emprego\n",
              "0     João      Mecanico\n",
              "1  Ribeiro      Mecanico\n",
              "2   Isaias  Farmaceutico\n",
              "3     Anne     Professor\n",
              "4     Luiz    Enfermeiro"
            ],
            "text/html": [
              "\n",
              "  <div id=\"df-6c0a72d3-0edd-4e7f-b3e2-c172f36d917a\">\n",
              "    <div class=\"colab-df-container\">\n",
              "      <div>\n",
              "<style scoped>\n",
              "    .dataframe tbody tr th:only-of-type {\n",
              "        vertical-align: middle;\n",
              "    }\n",
              "\n",
              "    .dataframe tbody tr th {\n",
              "        vertical-align: top;\n",
              "    }\n",
              "\n",
              "    .dataframe thead th {\n",
              "        text-align: right;\n",
              "    }\n",
              "</style>\n",
              "<table border=\"1\" class=\"dataframe\">\n",
              "  <thead>\n",
              "    <tr style=\"text-align: right;\">\n",
              "      <th></th>\n",
              "      <th>aluno</th>\n",
              "      <th>emprego</th>\n",
              "    </tr>\n",
              "  </thead>\n",
              "  <tbody>\n",
              "    <tr>\n",
              "      <th>0</th>\n",
              "      <td>João</td>\n",
              "      <td>Mecanico</td>\n",
              "    </tr>\n",
              "    <tr>\n",
              "      <th>1</th>\n",
              "      <td>Ribeiro</td>\n",
              "      <td>Mecanico</td>\n",
              "    </tr>\n",
              "    <tr>\n",
              "      <th>2</th>\n",
              "      <td>Isaias</td>\n",
              "      <td>Farmaceutico</td>\n",
              "    </tr>\n",
              "    <tr>\n",
              "      <th>3</th>\n",
              "      <td>Anne</td>\n",
              "      <td>Professor</td>\n",
              "    </tr>\n",
              "    <tr>\n",
              "      <th>4</th>\n",
              "      <td>Luiz</td>\n",
              "      <td>Enfermeiro</td>\n",
              "    </tr>\n",
              "  </tbody>\n",
              "</table>\n",
              "</div>\n",
              "      <button class=\"colab-df-convert\" onclick=\"convertToInteractive('df-6c0a72d3-0edd-4e7f-b3e2-c172f36d917a')\"\n",
              "              title=\"Convert this dataframe to an interactive table.\"\n",
              "              style=\"display:none;\">\n",
              "        \n",
              "  <svg xmlns=\"http://www.w3.org/2000/svg\" height=\"24px\"viewBox=\"0 0 24 24\"\n",
              "       width=\"24px\">\n",
              "    <path d=\"M0 0h24v24H0V0z\" fill=\"none\"/>\n",
              "    <path d=\"M18.56 5.44l.94 2.06.94-2.06 2.06-.94-2.06-.94-.94-2.06-.94 2.06-2.06.94zm-11 1L8.5 8.5l.94-2.06 2.06-.94-2.06-.94L8.5 2.5l-.94 2.06-2.06.94zm10 10l.94 2.06.94-2.06 2.06-.94-2.06-.94-.94-2.06-.94 2.06-2.06.94z\"/><path d=\"M17.41 7.96l-1.37-1.37c-.4-.4-.92-.59-1.43-.59-.52 0-1.04.2-1.43.59L10.3 9.45l-7.72 7.72c-.78.78-.78 2.05 0 2.83L4 21.41c.39.39.9.59 1.41.59.51 0 1.02-.2 1.41-.59l7.78-7.78 2.81-2.81c.8-.78.8-2.07 0-2.86zM5.41 20L4 18.59l7.72-7.72 1.47 1.35L5.41 20z\"/>\n",
              "  </svg>\n",
              "      </button>\n",
              "      \n",
              "  <style>\n",
              "    .colab-df-container {\n",
              "      display:flex;\n",
              "      flex-wrap:wrap;\n",
              "      gap: 12px;\n",
              "    }\n",
              "\n",
              "    .colab-df-convert {\n",
              "      background-color: #E8F0FE;\n",
              "      border: none;\n",
              "      border-radius: 50%;\n",
              "      cursor: pointer;\n",
              "      display: none;\n",
              "      fill: #1967D2;\n",
              "      height: 32px;\n",
              "      padding: 0 0 0 0;\n",
              "      width: 32px;\n",
              "    }\n",
              "\n",
              "    .colab-df-convert:hover {\n",
              "      background-color: #E2EBFA;\n",
              "      box-shadow: 0px 1px 2px rgba(60, 64, 67, 0.3), 0px 1px 3px 1px rgba(60, 64, 67, 0.15);\n",
              "      fill: #174EA6;\n",
              "    }\n",
              "\n",
              "    [theme=dark] .colab-df-convert {\n",
              "      background-color: #3B4455;\n",
              "      fill: #D2E3FC;\n",
              "    }\n",
              "\n",
              "    [theme=dark] .colab-df-convert:hover {\n",
              "      background-color: #434B5C;\n",
              "      box-shadow: 0px 1px 3px 1px rgba(0, 0, 0, 0.15);\n",
              "      filter: drop-shadow(0px 1px 2px rgba(0, 0, 0, 0.3));\n",
              "      fill: #FFFFFF;\n",
              "    }\n",
              "  </style>\n",
              "\n",
              "      <script>\n",
              "        const buttonEl =\n",
              "          document.querySelector('#df-6c0a72d3-0edd-4e7f-b3e2-c172f36d917a button.colab-df-convert');\n",
              "        buttonEl.style.display =\n",
              "          google.colab.kernel.accessAllowed ? 'block' : 'none';\n",
              "\n",
              "        async function convertToInteractive(key) {\n",
              "          const element = document.querySelector('#df-6c0a72d3-0edd-4e7f-b3e2-c172f36d917a');\n",
              "          const dataTable =\n",
              "            await google.colab.kernel.invokeFunction('convertToInteractive',\n",
              "                                                     [key], {});\n",
              "          if (!dataTable) return;\n",
              "\n",
              "          const docLinkHtml = 'Like what you see? Visit the ' +\n",
              "            '<a target=\"_blank\" href=https://colab.research.google.com/notebooks/data_table.ipynb>data table notebook</a>'\n",
              "            + ' to learn more about interactive tables.';\n",
              "          element.innerHTML = '';\n",
              "          dataTable['output_type'] = 'display_data';\n",
              "          await google.colab.output.renderOutput(dataTable, element);\n",
              "          const docLink = document.createElement('div');\n",
              "          docLink.innerHTML = docLinkHtml;\n",
              "          element.appendChild(docLink);\n",
              "        }\n",
              "      </script>\n",
              "    </div>\n",
              "  </div>\n",
              "  "
            ]
          },
          "metadata": {},
          "execution_count": 95
        }
      ]
    },
    {
      "cell_type": "markdown",
      "source": [
        "# SELECT"
      ],
      "metadata": {
        "id": "sD0ZKoUfBb7j"
      }
    },
    {
      "cell_type": "code",
      "source": [
        "# Selecting all data\n",
        "\n",
        "statement = \"SELECT * FROM df LIMIT 5;\"\n",
        "\n",
        "selected_data = sqldf(statement, globals())\n",
        "\n",
        "print(selected_data)"
      ],
      "metadata": {
        "colab": {
          "base_uri": "https://localhost:8080/"
        },
        "id": "1Q-6CgrTBdfv",
        "outputId": "d14dd7fc-17e7-4b14-ea4f-a35d2710130c"
      },
      "execution_count": 15,
      "outputs": [
        {
          "output_type": "stream",
          "name": "stdout",
          "text": [
            "     aluno  idade     cidade                 aniversario\n",
            "0     João     20  São Paulo  2002-10-04 00:00:00.000000\n",
            "1  Ribeiro     29   São João  2003-02-20 00:00:00.000000\n",
            "2   Evaldo     22     Pinhal                        None\n",
            "3   Isaias     21     Mococa  2000-04-20 00:00:00.000000\n",
            "4  Jessyca     35      Poços  1987-12-12 00:00:00.000000\n"
          ]
        }
      ]
    },
    {
      "cell_type": "code",
      "source": [
        "# Selecting name and age\n",
        "\n",
        "statement = \"SELECT aluno, idade FROM df LIMIT 5;\"\n",
        "\n",
        "selected_data = sqldf(statement, globals())\n",
        "\n",
        "print(selected_data)"
      ],
      "metadata": {
        "colab": {
          "base_uri": "https://localhost:8080/"
        },
        "id": "EZhrXoghBlWs",
        "outputId": "d18ff841-0321-40a0-ae7c-1efa847838a0"
      },
      "execution_count": 16,
      "outputs": [
        {
          "output_type": "stream",
          "name": "stdout",
          "text": [
            "     aluno  idade\n",
            "0     João     20\n",
            "1  Ribeiro     29\n",
            "2   Evaldo     22\n",
            "3   Isaias     21\n",
            "4  Jessyca     35\n"
          ]
        }
      ]
    },
    {
      "cell_type": "markdown",
      "source": [
        "Obs: The main function used in pandasql is sqldf. sqldf accepts 2 parametrs - a sql query string - an set of session/environment variables (locals() or globals())"
      ],
      "metadata": {
        "id": "yT9mrHDvC6bS"
      }
    },
    {
      "cell_type": "markdown",
      "source": [
        "# DISTINCT/ COUNT / AS"
      ],
      "metadata": {
        "id": "F_rBHptbCOh-"
      }
    },
    {
      "cell_type": "code",
      "source": [
        "# Selecting distinct cities\n",
        "\n",
        "statement = \"SELECT DISTINCT cidade FROM df;\"\n",
        "\n",
        "selected_data = sqldf(statement, globals())\n",
        "\n",
        "print(selected_data)"
      ],
      "metadata": {
        "colab": {
          "base_uri": "https://localhost:8080/"
        },
        "id": "RpXQl7UOCQ8o",
        "outputId": "e4b09ba7-2581-409f-eb24-bd9d3e6f88fe"
      },
      "execution_count": 23,
      "outputs": [
        {
          "output_type": "stream",
          "name": "stdout",
          "text": [
            "      cidade\n",
            "0  São Paulo\n",
            "1   São João\n",
            "2     Pinhal\n",
            "3     Mococa\n",
            "4      Poços\n",
            "5   Botelhos\n"
          ]
        }
      ]
    },
    {
      "cell_type": "code",
      "source": [
        "# Counting the amount of distinct cities\n",
        "\n",
        "statement = \"SELECT COUNT(DISTINCT cidade) AS num_cities FROM df;\"\n",
        "\n",
        "selected_data = sqldf(statement, globals())\n",
        "\n",
        "print(selected_data)"
      ],
      "metadata": {
        "colab": {
          "base_uri": "https://localhost:8080/"
        },
        "id": "wPHvLiMIDmon",
        "outputId": "0ed1952d-c59b-48f4-f666-f0541a1d9aa3"
      },
      "execution_count": 22,
      "outputs": [
        {
          "output_type": "stream",
          "name": "stdout",
          "text": [
            "   num_cities\n",
            "0           6\n"
          ]
        }
      ]
    },
    {
      "cell_type": "code",
      "source": [
        "# Selecting distinct combinations of two cities\n",
        "\n",
        "statement = \"SELECT DISTINCT aluno, cidade FROM df;\"\n",
        "\n",
        "selected_data = sqldf(statement, globals())\n",
        "\n",
        "print(selected_data)"
      ],
      "metadata": {
        "colab": {
          "base_uri": "https://localhost:8080/"
        },
        "id": "Bmh-d5y9EQyV",
        "outputId": "6e37db32-f0e6-4527-beda-28c5c142a184"
      },
      "execution_count": 24,
      "outputs": [
        {
          "output_type": "stream",
          "name": "stdout",
          "text": [
            "     aluno     cidade\n",
            "0     João  São Paulo\n",
            "1  Ribeiro   São João\n",
            "2   Evaldo     Pinhal\n",
            "3   Isaias     Mococa\n",
            "4  Jessyca      Poços\n",
            "5     Anne   Botelhos\n",
            "6     Luiz     Pinhal\n"
          ]
        }
      ]
    },
    {
      "cell_type": "markdown",
      "source": [
        "# WHERE"
      ],
      "metadata": {
        "id": "-RDaZLx6FiwT"
      }
    },
    {
      "cell_type": "code",
      "source": [
        "# Selecting with a condition\n",
        "\n",
        "statement = \"SELECT * FROM df WHERE cidade = 'Pinhal';\"\n",
        "\n",
        "selected_data = sqldf(statement, globals())\n",
        "\n",
        "print(selected_data)"
      ],
      "metadata": {
        "colab": {
          "base_uri": "https://localhost:8080/"
        },
        "id": "BlpEd6FPF2KX",
        "outputId": "865b6706-f3e0-4f3e-836e-7f6ccf295201"
      },
      "execution_count": 25,
      "outputs": [
        {
          "output_type": "stream",
          "name": "stdout",
          "text": [
            "    aluno  idade  cidade aniversario\n",
            "0  Evaldo     22  Pinhal        None\n",
            "1    Luiz     40  Pinhal        None\n"
          ]
        }
      ]
    },
    {
      "cell_type": "code",
      "source": [
        "# Selecting the name of the students that lives in Pinhal\n",
        "\n",
        "statement = \"SELECT aluno FROM df WHERE cidade = 'Pinhal';\"\n",
        "\n",
        "selected_data = sqldf(statement, globals())\n",
        "\n",
        "print(selected_data)"
      ],
      "metadata": {
        "colab": {
          "base_uri": "https://localhost:8080/"
        },
        "id": "fa7tyCepGHud",
        "outputId": "3d32d324-e187-431e-b965-b73e2461fcb9"
      },
      "execution_count": 26,
      "outputs": [
        {
          "output_type": "stream",
          "name": "stdout",
          "text": [
            "    aluno\n",
            "0  Evaldo\n",
            "1    Luiz\n"
          ]
        }
      ]
    },
    {
      "cell_type": "code",
      "source": [
        "# Selecting the name of the students that lives in Pinhal or São Paulo\n",
        "\n",
        "statement = \"SELECT aluno FROM df WHERE cidade = 'Pinhal' OR cidade = 'São Paulo';\"\n",
        "\n",
        "selected_data = sqldf(statement, globals())\n",
        "\n",
        "print(selected_data)"
      ],
      "metadata": {
        "colab": {
          "base_uri": "https://localhost:8080/"
        },
        "id": "wTNzYW6MGS79",
        "outputId": "601010e9-9439-470f-a2c6-4cd24191a02f"
      },
      "execution_count": 27,
      "outputs": [
        {
          "output_type": "stream",
          "name": "stdout",
          "text": [
            "    aluno\n",
            "0    João\n",
            "1  Evaldo\n",
            "2    Luiz\n"
          ]
        }
      ]
    },
    {
      "cell_type": "code",
      "source": [
        "# Selecting the name of the students that do not lives in São Paulo and the age is greater than 25\n",
        "\n",
        "statement = \"SELECT aluno FROM df WHERE cidade != 'São Paulo' AND idade > 25;\"\n",
        "\n",
        "selected_data = sqldf(statement, globals())\n",
        "\n",
        "print(selected_data)"
      ],
      "metadata": {
        "colab": {
          "base_uri": "https://localhost:8080/"
        },
        "id": "EHuNuOHkGsKB",
        "outputId": "6faf01fa-84ca-4d58-f5aa-09b5118d0284"
      },
      "execution_count": 29,
      "outputs": [
        {
          "output_type": "stream",
          "name": "stdout",
          "text": [
            "     aluno\n",
            "0  Jessyca\n",
            "1     Anne\n",
            "2     Luiz\n"
          ]
        }
      ]
    },
    {
      "cell_type": "code",
      "source": [
        "# Selecting names ending with 'iz' or starting with 'Je'\n",
        "\n",
        "statement = \"SELECT aluno FROM df WHERE aluno LIKE '%iz' OR aluno LIKE 'Je%';\"\n",
        "\n",
        "selected_data = sqldf(statement, globals())\n",
        "\n",
        "print(selected_data)"
      ],
      "metadata": {
        "colab": {
          "base_uri": "https://localhost:8080/"
        },
        "id": "QCOW-GitH49j",
        "outputId": "8c6e2abd-4e83-431a-dc1c-993f307e33af"
      },
      "execution_count": 31,
      "outputs": [
        {
          "output_type": "stream",
          "name": "stdout",
          "text": [
            "     aluno\n",
            "0  Jessyca\n",
            "1     Luiz\n"
          ]
        }
      ]
    },
    {
      "cell_type": "code",
      "source": [
        "# Selecting the average age of citizens of Pinhal\n",
        "\n",
        "statement = \"SELECT AVG(idade) AS mean_age FROM df WHERE cidade = 'Pinhal';\"\n",
        "\n",
        "selected_data = sqldf(statement, globals())\n",
        "\n",
        "print(selected_data)"
      ],
      "metadata": {
        "colab": {
          "base_uri": "https://localhost:8080/"
        },
        "id": "hlDzvZ5pI1uT",
        "outputId": "3e18f7f4-0e21-425e-c45d-06dc766fe847"
      },
      "execution_count": 33,
      "outputs": [
        {
          "output_type": "stream",
          "name": "stdout",
          "text": [
            "   mean_age\n",
            "0      31.0\n"
          ]
        }
      ]
    },
    {
      "cell_type": "markdown",
      "source": [
        "# ORDER BY"
      ],
      "metadata": {
        "id": "RBKtlBfHJgSZ"
      }
    },
    {
      "cell_type": "code",
      "source": [
        "# Ordering the data by age ascending\n",
        "\n",
        "statement = \"SELECT idade FROM df ORDER BY idade;\"\n",
        "\n",
        "selected_data = sqldf(statement, globals())\n",
        "\n",
        "print(selected_data)"
      ],
      "metadata": {
        "colab": {
          "base_uri": "https://localhost:8080/"
        },
        "id": "-vVS_88lJrgt",
        "outputId": "6441a0a5-5c68-4b79-a97a-5173677774bf"
      },
      "execution_count": 34,
      "outputs": [
        {
          "output_type": "stream",
          "name": "stdout",
          "text": [
            "   idade\n",
            "0     20\n",
            "1     21\n",
            "2     22\n",
            "3     29\n",
            "4     32\n",
            "5     35\n",
            "6     40\n"
          ]
        }
      ]
    },
    {
      "cell_type": "code",
      "source": [
        "# Ordering the data by age descending\n",
        "\n",
        "statement = \"SELECT idade FROM df ORDER BY idade DESC;\"\n",
        "\n",
        "selected_data = sqldf(statement, globals())\n",
        "\n",
        "print(selected_data)"
      ],
      "metadata": {
        "colab": {
          "base_uri": "https://localhost:8080/"
        },
        "id": "o16Q42tNJ8Zq",
        "outputId": "0343736e-c497-4ed7-b715-551517a1bdb7"
      },
      "execution_count": 35,
      "outputs": [
        {
          "output_type": "stream",
          "name": "stdout",
          "text": [
            "   idade\n",
            "0     40\n",
            "1     35\n",
            "2     32\n",
            "3     29\n",
            "4     22\n",
            "5     21\n",
            "6     20\n"
          ]
        }
      ]
    },
    {
      "cell_type": "code",
      "source": [
        "# Ordering the data by city ascending and then by age descending\n",
        "\n",
        "statement = \"SELECT cidade, idade FROM df ORDER BY cidade, idade DESC;\"\n",
        "\n",
        "selected_data = sqldf(statement, globals())\n",
        "\n",
        "print(selected_data)"
      ],
      "metadata": {
        "colab": {
          "base_uri": "https://localhost:8080/"
        },
        "id": "0aGJTSu8KA0d",
        "outputId": "abec4d03-4dd3-4cad-8eb6-41667672ba89"
      },
      "execution_count": 37,
      "outputs": [
        {
          "output_type": "stream",
          "name": "stdout",
          "text": [
            "      cidade  idade\n",
            "0   Botelhos     32\n",
            "1     Mococa     21\n",
            "2     Pinhal     40\n",
            "3     Pinhal     22\n",
            "4      Poços     35\n",
            "5   São João     29\n",
            "6  São Paulo     20\n"
          ]
        }
      ]
    },
    {
      "cell_type": "markdown",
      "source": [
        "# GROUP BY"
      ],
      "metadata": {
        "id": "fUGjgahMKcNg"
      }
    },
    {
      "cell_type": "code",
      "source": [
        "# Grouping the data by city and getting the max age\n",
        "\n",
        "statement = \"SELECT cidade, MAX(idade) FROM df GROUP BY cidade;\"\n",
        "\n",
        "selected_data = sqldf(statement, globals())\n",
        "\n",
        "print(selected_data)"
      ],
      "metadata": {
        "colab": {
          "base_uri": "https://localhost:8080/"
        },
        "id": "86qdodYxKoGc",
        "outputId": "bf71c977-3d1e-414d-b47c-7af389518458"
      },
      "execution_count": 44,
      "outputs": [
        {
          "output_type": "stream",
          "name": "stdout",
          "text": [
            "      cidade  MAX(idade)\n",
            "0   Botelhos          32\n",
            "1     Mococa          21\n",
            "2     Pinhal          40\n",
            "3      Poços          35\n",
            "4   São João          29\n",
            "5  São Paulo          20\n"
          ]
        }
      ]
    },
    {
      "cell_type": "code",
      "source": [
        "# Grouping the data by city and getting the max age, ordering by max(age) ascending\n",
        "\n",
        "statement = \"SELECT cidade, MAX(idade) AS max_age FROM df GROUP BY cidade ORDER BY max_age;\"\n",
        "\n",
        "selected_data = sqldf(statement, globals())\n",
        "\n",
        "print(selected_data)"
      ],
      "metadata": {
        "colab": {
          "base_uri": "https://localhost:8080/"
        },
        "id": "ARgU8cLOMx7v",
        "outputId": "c2efbda5-5280-4183-b02c-0f0b7d7bc4f7"
      },
      "execution_count": 45,
      "outputs": [
        {
          "output_type": "stream",
          "name": "stdout",
          "text": [
            "      cidade  max_age\n",
            "0  São Paulo       20\n",
            "1     Mococa       21\n",
            "2   São João       29\n",
            "3   Botelhos       32\n",
            "4      Poços       35\n",
            "5     Pinhal       40\n"
          ]
        }
      ]
    },
    {
      "cell_type": "code",
      "source": [
        "# Grouping the data by city and getting the max age, ordering by max(age) ascending with age > 30\n",
        "\n",
        "statement = \"SELECT cidade, MAX(idade) AS max_age FROM df WHERE idade > 30 GROUP BY cidade ORDER BY max_age;\"\n",
        "\n",
        "selected_data = sqldf(statement, globals())\n",
        "\n",
        "print(selected_data)"
      ],
      "metadata": {
        "colab": {
          "base_uri": "https://localhost:8080/"
        },
        "id": "6ejxcklCOxGK",
        "outputId": "b98033d4-852b-4613-c909-37a671538802"
      },
      "execution_count": 54,
      "outputs": [
        {
          "output_type": "stream",
          "name": "stdout",
          "text": [
            "     cidade  max_age\n",
            "0  Botelhos       32\n",
            "1     Poços       35\n",
            "2    Pinhal       40\n"
          ]
        }
      ]
    },
    {
      "cell_type": "code",
      "source": [
        "# Getting the average age grouped by city and returning the city initials\n",
        "\n",
        "statement = \"SELECT SUBSTR(cidade, 1, 3) AS initials, AVG(idade) FROM df GROUP BY cidade;\" # SUBSTR(cidade, 3) gets the last 3 characteres\n",
        "\n",
        "selected_data = sqldf(statement, globals())\n",
        "\n",
        "print(selected_data)"
      ],
      "metadata": {
        "colab": {
          "base_uri": "https://localhost:8080/"
        },
        "id": "7nF_Vzg9Ql36",
        "outputId": "f45579ca-a99c-4753-dfc6-3919788e6c74"
      },
      "execution_count": 64,
      "outputs": [
        {
          "output_type": "stream",
          "name": "stdout",
          "text": [
            "  initials  AVG(idade)\n",
            "0      Bot        32.0\n",
            "1      Moc        21.0\n",
            "2      Pin        31.0\n",
            "3      Poç        35.0\n",
            "4      São        29.0\n",
            "5      São        20.0\n"
          ]
        }
      ]
    },
    {
      "cell_type": "markdown",
      "source": [
        "# Having"
      ],
      "metadata": {
        "id": "iFHXbVDqSoP-"
      }
    },
    {
      "cell_type": "markdown",
      "source": [
        "Kind of a condition to the WHERE clause"
      ],
      "metadata": {
        "id": "R0arXtGjTTkq"
      }
    },
    {
      "cell_type": "code",
      "source": [
        "# Grouping the data by city and getting the average age, ordering by max(age) ascending with mean_age > 20\n",
        "\n",
        "statement = \"SELECT cidade, AVG(idade) AS max_age FROM df GROUP BY cidade HAVING max_age > 20 ORDER BY max_age;\"\n",
        "\n",
        "selected_data = sqldf(statement, globals())\n",
        "\n",
        "print(selected_data)"
      ],
      "metadata": {
        "colab": {
          "base_uri": "https://localhost:8080/"
        },
        "id": "LMUFHkL_SpEX",
        "outputId": "7785e6a8-df0f-4e23-9d1b-582ccc994c77"
      },
      "execution_count": 67,
      "outputs": [
        {
          "output_type": "stream",
          "name": "stdout",
          "text": [
            "     cidade  max_age\n",
            "0    Mococa     21.0\n",
            "1  São João     29.0\n",
            "2    Pinhal     31.0\n",
            "3  Botelhos     32.0\n",
            "4     Poços     35.0\n"
          ]
        }
      ]
    },
    {
      "cell_type": "code",
      "source": [
        "# Returning a column for the amount of citizens in each city\n",
        "\n",
        "statement = \" \\\n",
        "  SELECT cidade, SUM(CASE WHEN cidade = 'Pinhal' THEN 1 ELSE 0 END) AS citizens \\\n",
        "  FROM df \\\n",
        "  GROUP BY cidade; \\\n",
        "\"\n",
        "\n",
        "selected_data = sqldf(statement, globals())\n",
        "\n",
        "print(selected_data)\n",
        "\n",
        "# Extra: returning the percentage of students that lives in 'Pinhal\n",
        "\n",
        "# statement = \" \\\n",
        "#   SELECT aluno, SUM(CASE WHEN cidade = 'Pinhal' THEN 1.0 ELSE 0.0 END)/COUNT(*) AS frac_math \\\n",
        "#   FROM df; \\\n",
        "# \""
      ],
      "metadata": {
        "colab": {
          "base_uri": "https://localhost:8080/"
        },
        "id": "5OP-XdKUUJFP",
        "outputId": "7c16cfe8-52f2-403b-f04c-8e09d9ebab87"
      },
      "execution_count": 83,
      "outputs": [
        {
          "output_type": "stream",
          "name": "stdout",
          "text": [
            "      cidade  citizens\n",
            "0   Botelhos         0\n",
            "1     Mococa         0\n",
            "2     Pinhal         2\n",
            "3      Poços         0\n",
            "4   São João         0\n",
            "5  São Paulo         0\n"
          ]
        }
      ]
    },
    {
      "cell_type": "markdown",
      "source": [
        "# JOINS"
      ],
      "metadata": {
        "id": "yz08HsjfXsQQ"
      }
    },
    {
      "cell_type": "markdown",
      "source": [
        "<img src = \"https://miro.medium.com/max/1200/1*av8Om3HpG1MC7YTLKvyftg.png\" width = 150%>\n",
        "\n",
        "image-font = https://miro.medium.com/max/1200/1*av8Om3HpG1MC7YTLKvyftg.png"
      ],
      "metadata": {
        "id": "928XjY1hYzhG"
      }
    },
    {
      "cell_type": "code",
      "source": [
        "# Returning the age among working students\n",
        "\n",
        "statement = \" \\\n",
        "  SELECT S.aluno, W.emprego, idade \\\n",
        "  FROM df S \\\n",
        "  INNER JOIN df2 W ON S.aluno = W.aluno; \\\n",
        "\"\n",
        "\n",
        "selected_data = sqldf(statement, globals())\n",
        "\n",
        "print(selected_data)"
      ],
      "metadata": {
        "colab": {
          "base_uri": "https://localhost:8080/"
        },
        "id": "ZA5ccLAbXtnZ",
        "outputId": "7b9a6a18-6b43-4825-f17e-25955415fc46"
      },
      "execution_count": 96,
      "outputs": [
        {
          "output_type": "stream",
          "name": "stdout",
          "text": [
            "     aluno       emprego  idade\n",
            "0     João      Mecanico     20\n",
            "1  Ribeiro      Mecanico     29\n",
            "2   Isaias  Farmaceutico     21\n",
            "3     Anne     Professor     32\n",
            "4     Luiz    Enfermeiro     40\n"
          ]
        }
      ]
    },
    {
      "cell_type": "code",
      "source": [
        "# Returning the student and the average age among their profession\n",
        "\n",
        "statement = \" \\\n",
        "  SELECT S.aluno, W.emprego, AVG(idade) \\\n",
        "  FROM df S \\\n",
        "  INNER JOIN df2 W ON S.aluno = W.aluno \\\n",
        "  GROUP BY W.emprego \\\n",
        "  ORDER BY S.idade; \\\n",
        "\"\n",
        "\n",
        "selected_data = sqldf(statement, globals())\n",
        "\n",
        "print(selected_data)"
      ],
      "metadata": {
        "colab": {
          "base_uri": "https://localhost:8080/"
        },
        "id": "ueazAlhZdhJn",
        "outputId": "063902f8-6de2-44b9-c533-7bb67325fabf"
      },
      "execution_count": 97,
      "outputs": [
        {
          "output_type": "stream",
          "name": "stdout",
          "text": [
            "     aluno       emprego  AVG(idade)\n",
            "0   Isaias  Farmaceutico        21.0\n",
            "1  Ribeiro      Mecanico        24.5\n",
            "2     Anne     Professor        32.0\n",
            "3     Luiz    Enfermeiro        40.0\n"
          ]
        }
      ]
    },
    {
      "cell_type": "code",
      "source": [
        "# Returning the students and their profession even if it's null\n",
        "\n",
        "statement = \" \\\n",
        "  SELECT S.aluno, W.emprego \\\n",
        "  FROM df S \\\n",
        "  LEFT JOIN df2 W ON S.aluno = W.aluno; \\\n",
        "\"\n",
        "\n",
        "selected_data = sqldf(statement, globals())\n",
        "\n",
        "print(selected_data)"
      ],
      "metadata": {
        "colab": {
          "base_uri": "https://localhost:8080/"
        },
        "id": "wJ4swhOre546",
        "outputId": "83626f10-0ec1-40a8-f5d5-cd52cb49791c"
      },
      "execution_count": 108,
      "outputs": [
        {
          "output_type": "stream",
          "name": "stdout",
          "text": [
            "     aluno       emprego\n",
            "0     João      Mecanico\n",
            "1  Ribeiro      Mecanico\n",
            "2   Evaldo          None\n",
            "3   Isaias  Farmaceutico\n",
            "4  Jessyca          None\n",
            "5     Anne     Professor\n",
            "6     Luiz    Enfermeiro\n"
          ]
        }
      ]
    },
    {
      "cell_type": "code",
      "source": [
        "# Returning the students who don't work\n",
        "\n",
        "statement = \" \\\n",
        "  SELECT S.aluno \\\n",
        "  FROM df S \\\n",
        "  LEFT JOIN df2 W ON S.aluno = W.aluno \\\n",
        "  WHERE W.aluno IS NULL; \\\n",
        "\"\n",
        "\n",
        "selected_data = sqldf(statement, globals())\n",
        "\n",
        "print(selected_data)"
      ],
      "metadata": {
        "colab": {
          "base_uri": "https://localhost:8080/"
        },
        "id": "20NzpfuoeXGz",
        "outputId": "47de4e8d-1c53-439b-c8c3-5a01189a82bd"
      },
      "execution_count": 101,
      "outputs": [
        {
          "output_type": "stream",
          "name": "stdout",
          "text": [
            "     aluno\n",
            "0   Evaldo\n",
            "1  Jessyca\n"
          ]
        }
      ]
    },
    {
      "cell_type": "code",
      "source": [
        "# Getting the percentage of students who work among the cities\n",
        "\n",
        "statement = \" \\\n",
        "  SELECT S.cidade, SUM(CASE WHEN emprego IS NOT NULL THEN 1.0 ELSE 0.0 END)/COUNT(*) AS frac_working \\\n",
        "  FROM df S \\\n",
        "  LEFT JOIN df2 W ON S.aluno = W.aluno \\\n",
        "  GROUP BY cidade; \\\n",
        "\"\n",
        "\n",
        "selected_data = sqldf(statement, globals())\n",
        "\n",
        "print(selected_data)"
      ],
      "metadata": {
        "colab": {
          "base_uri": "https://localhost:8080/"
        },
        "id": "RybRjmZUgbtz",
        "outputId": "b9f2258f-635f-4d5b-bab8-473f6d658ac6"
      },
      "execution_count": 109,
      "outputs": [
        {
          "output_type": "stream",
          "name": "stdout",
          "text": [
            "      cidade  frac_working\n",
            "0   Botelhos           1.0\n",
            "1     Mococa           1.0\n",
            "2     Pinhal           0.5\n",
            "3      Poços           0.0\n",
            "4   São João           1.0\n",
            "5  São Paulo           1.0\n"
          ]
        }
      ]
    },
    {
      "cell_type": "code",
      "source": [
        "# Getting the percentage of students who work among the cities and returning the cities with 100%\n",
        "\n",
        "statement = \" \\\n",
        "  SELECT S.cidade, SUM(CASE WHEN emprego IS NOT NULL THEN 1.0 ELSE 0.0 END)/COUNT(*) AS frac_working \\\n",
        "  FROM df S \\\n",
        "  LEFT JOIN df2 W ON S.aluno = W.aluno \\\n",
        "  GROUP BY cidade \\\n",
        "  HAVING frac_working = 1.0; \\\n",
        "\"\n",
        "\n",
        "selected_data = sqldf(statement, globals())\n",
        "\n",
        "print(selected_data)"
      ],
      "metadata": {
        "colab": {
          "base_uri": "https://localhost:8080/"
        },
        "id": "JxVTYiEbg13f",
        "outputId": "a7cd1352-b110-4dcf-fdc9-135d1660ccd1"
      },
      "execution_count": 110,
      "outputs": [
        {
          "output_type": "stream",
          "name": "stdout",
          "text": [
            "      cidade  frac_working\n",
            "0   Botelhos           1.0\n",
            "1     Mococa           1.0\n",
            "2   São João           1.0\n",
            "3  São Paulo           1.0\n"
          ]
        }
      ]
    },
    {
      "cell_type": "markdown",
      "source": [
        "# SELF JOIN"
      ],
      "metadata": {
        "id": "Bd_Fkpe5hK65"
      }
    },
    {
      "cell_type": "code",
      "source": [
        "# Returning the difference in age between two students\n",
        "\n",
        "statement = \" \\\n",
        "  SELECT S1.aluno AS student_1, S1.idade AS age_student_1, \\\n",
        "   S2.aluno AS student_2, S2.idade as age_student_2, \\\n",
        "   ABS(S1.idade - S2.idade) AS age_dif \\\n",
        "  FROM df S1 INNER JOIN df S2\\\n",
        "  WHERE S1.aluno != S2.aluno \\\n",
        "  LIMIT 10; \\\n",
        "\"\n",
        "# note that 'INNER JOIN' can be replaced by ','\n",
        "\n",
        "selected_data = sqldf(statement, globals())\n",
        "\n",
        "print(selected_data)"
      ],
      "metadata": {
        "colab": {
          "base_uri": "https://localhost:8080/"
        },
        "id": "qf7eoxKehqhZ",
        "outputId": "eef8bbac-27ec-446e-97c8-53d9a2231d16"
      },
      "execution_count": 121,
      "outputs": [
        {
          "output_type": "stream",
          "name": "stdout",
          "text": [
            "  student_1  age_student_1 student_2  age_student_2  age_dif\n",
            "0      João             20   Ribeiro             29        9\n",
            "1      João             20    Evaldo             22        2\n",
            "2      João             20    Isaias             21        1\n",
            "3      João             20   Jessyca             35       15\n",
            "4      João             20      Anne             32       12\n",
            "5      João             20      Luiz             40       20\n",
            "6   Ribeiro             29      João             20        9\n",
            "7   Ribeiro             29    Evaldo             22        7\n",
            "8   Ribeiro             29    Isaias             21        8\n",
            "9   Ribeiro             29   Jessyca             35        6\n"
          ]
        }
      ]
    },
    {
      "cell_type": "code",
      "source": [
        "# Taking the average of all the absolute age differences\n",
        "\n",
        "statement = \" \\\n",
        "  SELECT AVG( ABS(S1.idade - S2.idade) ) AS age_avg_absdiff \\\n",
        "  FROM df S1, df S2 \\\n",
        "  WHERE S1.aluno != S2.aluno; \\\n",
        "\"\n",
        "\n",
        "selected_data = sqldf(statement, globals())\n",
        "\n",
        "print(selected_data)"
      ],
      "metadata": {
        "colab": {
          "base_uri": "https://localhost:8080/"
        },
        "id": "8fUfSHG9lFlM",
        "outputId": "f7d413f2-4f2b-4d48-f54e-38b9a525e338"
      },
      "execution_count": 123,
      "outputs": [
        {
          "output_type": "stream",
          "name": "stdout",
          "text": [
            "   age_avg_absdiff\n",
            "0         9.333333\n"
          ]
        }
      ]
    }
  ]
}