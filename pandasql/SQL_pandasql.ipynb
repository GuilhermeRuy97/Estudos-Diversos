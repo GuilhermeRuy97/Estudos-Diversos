{
  "nbformat": 4,
  "nbformat_minor": 0,
  "metadata": {
    "colab": {
      "name": "SQL_pandas.ipynb",
      "provenance": []
    },
    "kernelspec": {
      "name": "python3",
      "display_name": "Python 3"
    },
    "language_info": {
      "name": "python"
    }
  },
  "cells": [
    {
      "cell_type": "markdown",
      "source": [
        "# Utilizaçao do SQL através da biblioteca pandasql\n",
        "# Using pandasql to train SQL\n",
        "---\n",
        "Research fonts: \n",
        "1.   https://www.youtube.com/c/ritvikmath\n",
        "2.   https://pypi.org/project/pandasql/\n",
        "\n",
        "---"
      ],
      "metadata": {
        "id": "Qtq_ycVe9C1X"
      }
    },
    {
      "cell_type": "markdown",
      "source": [
        "# Import"
      ],
      "metadata": {
        "id": "UAvWopTKAEfW"
      }
    },
    {
      "cell_type": "code",
      "execution_count": 2,
      "metadata": {
        "colab": {
          "base_uri": "https://localhost:8080/"
        },
        "id": "ya_2cVNj8-8n",
        "outputId": "4d7aed64-99d2-466b-eb8a-2009fc2d3026"
      },
      "outputs": [
        {
          "output_type": "stream",
          "name": "stdout",
          "text": [
            "Looking in indexes: https://pypi.org/simple, https://us-python.pkg.dev/colab-wheels/public/simple/\n",
            "Collecting pandasql\n",
            "  Downloading pandasql-0.7.3.tar.gz (26 kB)\n",
            "Requirement already satisfied: numpy in /usr/local/lib/python3.7/dist-packages (from pandasql) (1.21.6)\n",
            "Requirement already satisfied: pandas in /usr/local/lib/python3.7/dist-packages (from pandasql) (1.3.5)\n",
            "Requirement already satisfied: sqlalchemy in /usr/local/lib/python3.7/dist-packages (from pandasql) (1.4.40)\n",
            "Requirement already satisfied: pytz>=2017.3 in /usr/local/lib/python3.7/dist-packages (from pandas->pandasql) (2022.1)\n",
            "Requirement already satisfied: python-dateutil>=2.7.3 in /usr/local/lib/python3.7/dist-packages (from pandas->pandasql) (2.8.2)\n",
            "Requirement already satisfied: six>=1.5 in /usr/local/lib/python3.7/dist-packages (from python-dateutil>=2.7.3->pandas->pandasql) (1.15.0)\n",
            "Requirement already satisfied: importlib-metadata in /usr/local/lib/python3.7/dist-packages (from sqlalchemy->pandasql) (4.12.0)\n",
            "Requirement already satisfied: greenlet!=0.4.17 in /usr/local/lib/python3.7/dist-packages (from sqlalchemy->pandasql) (1.1.2)\n",
            "Requirement already satisfied: zipp>=0.5 in /usr/local/lib/python3.7/dist-packages (from importlib-metadata->sqlalchemy->pandasql) (3.8.1)\n",
            "Requirement already satisfied: typing-extensions>=3.6.4 in /usr/local/lib/python3.7/dist-packages (from importlib-metadata->sqlalchemy->pandasql) (4.1.1)\n",
            "Building wheels for collected packages: pandasql\n",
            "  Building wheel for pandasql (setup.py) ... \u001b[?25l\u001b[?25hdone\n",
            "  Created wheel for pandasql: filename=pandasql-0.7.3-py3-none-any.whl size=26784 sha256=0e7cf0cdc2f8d5a79faec3e5b7d9319f93728ea83c4371afbd4f21f3972d6f83\n",
            "  Stored in directory: /root/.cache/pip/wheels/5c/4b/ec/41f4e116c8053c3654e2c2a47c62b4fca34cc67ef7b55deb7f\n",
            "Successfully built pandasql\n",
            "Installing collected packages: pandasql\n",
            "Successfully installed pandasql-0.7.3\n"
          ]
        }
      ],
      "source": [
        "# Ambient configuration\n",
        "\n",
        "# $ pip install -U pandasql\n",
        "# !pip install pandasql"
      ]
    },
    {
      "cell_type": "code",
      "source": [
        "# Required libraries\n",
        "\n",
        "import pandas as pd          # used to read the DataFrame\n",
        "import numpy  as np          # used to create the DataFrame\n",
        "\n",
        "from pandasql import sqldf"
      ],
      "metadata": {
        "id": "0dkX5ESV_rpq"
      },
      "execution_count": 5,
      "outputs": []
    },
    {
      "cell_type": "markdown",
      "source": [
        "# Data"
      ],
      "metadata": {
        "id": "0CSB0yTRAAqc"
      }
    },
    {
      "cell_type": "markdown",
      "source": [
        "This dataframe was created from imaginary data of students in a certain classroom"
      ],
      "metadata": {
        "id": "xMlORXluAoIu"
      }
    },
    {
      "cell_type": "code",
      "source": [
        "data = {'aluno'       : ['João', 'Ribeiro', 'Evaldo', 'Isaias', 'Jessyca','Anne','Luiz'],    \n",
        "        'idade'       : ['20', '29', '22', '21', '35', '32', '40'],    \n",
        "        'cidade'      : ['São Paulo', 'São João', 'Pinhal', 'Mococa', 'Poços', 'Botelhos', 'Pinhal'],\n",
        "        'aniversario' : ['021004', '030220', np.nan, '000420', '871212', '000101', np.nan] }\n",
        "\n",
        "df = pd.DataFrame(data)"
      ],
      "metadata": {
        "id": "qmewTOmBAjNc"
      },
      "execution_count": 6,
      "outputs": []
    },
    {
      "cell_type": "code",
      "source": [
        "# Data type correction\n",
        "\n",
        "df['aniversario'] = pd.to_datetime( df['aniversario'], format = '%y%m%d' )\n",
        "df['idade'] = df['idade'].astype(int)"
      ],
      "metadata": {
        "id": "09_nuTULBKbT"
      },
      "execution_count": 8,
      "outputs": []
    },
    {
      "cell_type": "code",
      "source": [
        "df"
      ],
      "metadata": {
        "colab": {
          "base_uri": "https://localhost:8080/",
          "height": 269
        },
        "id": "ooXxuvCLBDKO",
        "outputId": "1f1e0ba1-28cd-434d-beb8-36d06f8352c8"
      },
      "execution_count": 9,
      "outputs": [
        {
          "output_type": "execute_result",
          "data": {
            "text/plain": [
              "     aluno  idade     cidade aniversario\n",
              "0     João     20  São Paulo  2002-10-04\n",
              "1  Ribeiro     29   São João  2003-02-20\n",
              "2   Evaldo     22     Pinhal         NaT\n",
              "3   Isaias     21     Mococa  2000-04-20\n",
              "4  Jessyca     35      Poços  1987-12-12\n",
              "5     Anne     32   Botelhos  2000-01-01\n",
              "6     Luiz     40     Pinhal         NaT"
            ],
            "text/html": [
              "\n",
              "  <div id=\"df-7d10f589-1b12-4a30-9c30-30b0a17d8073\">\n",
              "    <div class=\"colab-df-container\">\n",
              "      <div>\n",
              "<style scoped>\n",
              "    .dataframe tbody tr th:only-of-type {\n",
              "        vertical-align: middle;\n",
              "    }\n",
              "\n",
              "    .dataframe tbody tr th {\n",
              "        vertical-align: top;\n",
              "    }\n",
              "\n",
              "    .dataframe thead th {\n",
              "        text-align: right;\n",
              "    }\n",
              "</style>\n",
              "<table border=\"1\" class=\"dataframe\">\n",
              "  <thead>\n",
              "    <tr style=\"text-align: right;\">\n",
              "      <th></th>\n",
              "      <th>aluno</th>\n",
              "      <th>idade</th>\n",
              "      <th>cidade</th>\n",
              "      <th>aniversario</th>\n",
              "    </tr>\n",
              "  </thead>\n",
              "  <tbody>\n",
              "    <tr>\n",
              "      <th>0</th>\n",
              "      <td>João</td>\n",
              "      <td>20</td>\n",
              "      <td>São Paulo</td>\n",
              "      <td>2002-10-04</td>\n",
              "    </tr>\n",
              "    <tr>\n",
              "      <th>1</th>\n",
              "      <td>Ribeiro</td>\n",
              "      <td>29</td>\n",
              "      <td>São João</td>\n",
              "      <td>2003-02-20</td>\n",
              "    </tr>\n",
              "    <tr>\n",
              "      <th>2</th>\n",
              "      <td>Evaldo</td>\n",
              "      <td>22</td>\n",
              "      <td>Pinhal</td>\n",
              "      <td>NaT</td>\n",
              "    </tr>\n",
              "    <tr>\n",
              "      <th>3</th>\n",
              "      <td>Isaias</td>\n",
              "      <td>21</td>\n",
              "      <td>Mococa</td>\n",
              "      <td>2000-04-20</td>\n",
              "    </tr>\n",
              "    <tr>\n",
              "      <th>4</th>\n",
              "      <td>Jessyca</td>\n",
              "      <td>35</td>\n",
              "      <td>Poços</td>\n",
              "      <td>1987-12-12</td>\n",
              "    </tr>\n",
              "    <tr>\n",
              "      <th>5</th>\n",
              "      <td>Anne</td>\n",
              "      <td>32</td>\n",
              "      <td>Botelhos</td>\n",
              "      <td>2000-01-01</td>\n",
              "    </tr>\n",
              "    <tr>\n",
              "      <th>6</th>\n",
              "      <td>Luiz</td>\n",
              "      <td>40</td>\n",
              "      <td>Pinhal</td>\n",
              "      <td>NaT</td>\n",
              "    </tr>\n",
              "  </tbody>\n",
              "</table>\n",
              "</div>\n",
              "      <button class=\"colab-df-convert\" onclick=\"convertToInteractive('df-7d10f589-1b12-4a30-9c30-30b0a17d8073')\"\n",
              "              title=\"Convert this dataframe to an interactive table.\"\n",
              "              style=\"display:none;\">\n",
              "        \n",
              "  <svg xmlns=\"http://www.w3.org/2000/svg\" height=\"24px\"viewBox=\"0 0 24 24\"\n",
              "       width=\"24px\">\n",
              "    <path d=\"M0 0h24v24H0V0z\" fill=\"none\"/>\n",
              "    <path d=\"M18.56 5.44l.94 2.06.94-2.06 2.06-.94-2.06-.94-.94-2.06-.94 2.06-2.06.94zm-11 1L8.5 8.5l.94-2.06 2.06-.94-2.06-.94L8.5 2.5l-.94 2.06-2.06.94zm10 10l.94 2.06.94-2.06 2.06-.94-2.06-.94-.94-2.06-.94 2.06-2.06.94z\"/><path d=\"M17.41 7.96l-1.37-1.37c-.4-.4-.92-.59-1.43-.59-.52 0-1.04.2-1.43.59L10.3 9.45l-7.72 7.72c-.78.78-.78 2.05 0 2.83L4 21.41c.39.39.9.59 1.41.59.51 0 1.02-.2 1.41-.59l7.78-7.78 2.81-2.81c.8-.78.8-2.07 0-2.86zM5.41 20L4 18.59l7.72-7.72 1.47 1.35L5.41 20z\"/>\n",
              "  </svg>\n",
              "      </button>\n",
              "      \n",
              "  <style>\n",
              "    .colab-df-container {\n",
              "      display:flex;\n",
              "      flex-wrap:wrap;\n",
              "      gap: 12px;\n",
              "    }\n",
              "\n",
              "    .colab-df-convert {\n",
              "      background-color: #E8F0FE;\n",
              "      border: none;\n",
              "      border-radius: 50%;\n",
              "      cursor: pointer;\n",
              "      display: none;\n",
              "      fill: #1967D2;\n",
              "      height: 32px;\n",
              "      padding: 0 0 0 0;\n",
              "      width: 32px;\n",
              "    }\n",
              "\n",
              "    .colab-df-convert:hover {\n",
              "      background-color: #E2EBFA;\n",
              "      box-shadow: 0px 1px 2px rgba(60, 64, 67, 0.3), 0px 1px 3px 1px rgba(60, 64, 67, 0.15);\n",
              "      fill: #174EA6;\n",
              "    }\n",
              "\n",
              "    [theme=dark] .colab-df-convert {\n",
              "      background-color: #3B4455;\n",
              "      fill: #D2E3FC;\n",
              "    }\n",
              "\n",
              "    [theme=dark] .colab-df-convert:hover {\n",
              "      background-color: #434B5C;\n",
              "      box-shadow: 0px 1px 3px 1px rgba(0, 0, 0, 0.15);\n",
              "      filter: drop-shadow(0px 1px 2px rgba(0, 0, 0, 0.3));\n",
              "      fill: #FFFFFF;\n",
              "    }\n",
              "  </style>\n",
              "\n",
              "      <script>\n",
              "        const buttonEl =\n",
              "          document.querySelector('#df-7d10f589-1b12-4a30-9c30-30b0a17d8073 button.colab-df-convert');\n",
              "        buttonEl.style.display =\n",
              "          google.colab.kernel.accessAllowed ? 'block' : 'none';\n",
              "\n",
              "        async function convertToInteractive(key) {\n",
              "          const element = document.querySelector('#df-7d10f589-1b12-4a30-9c30-30b0a17d8073');\n",
              "          const dataTable =\n",
              "            await google.colab.kernel.invokeFunction('convertToInteractive',\n",
              "                                                     [key], {});\n",
              "          if (!dataTable) return;\n",
              "\n",
              "          const docLinkHtml = 'Like what you see? Visit the ' +\n",
              "            '<a target=\"_blank\" href=https://colab.research.google.com/notebooks/data_table.ipynb>data table notebook</a>'\n",
              "            + ' to learn more about interactive tables.';\n",
              "          element.innerHTML = '';\n",
              "          dataTable['output_type'] = 'display_data';\n",
              "          await google.colab.output.renderOutput(dataTable, element);\n",
              "          const docLink = document.createElement('div');\n",
              "          docLink.innerHTML = docLinkHtml;\n",
              "          element.appendChild(docLink);\n",
              "        }\n",
              "      </script>\n",
              "    </div>\n",
              "  </div>\n",
              "  "
            ]
          },
          "metadata": {},
          "execution_count": 9
        }
      ]
    },
    {
      "cell_type": "markdown",
      "source": [
        "# SELECT"
      ],
      "metadata": {
        "id": "sD0ZKoUfBb7j"
      }
    },
    {
      "cell_type": "code",
      "source": [
        "# Selecting all data\n",
        "\n",
        "statement = \"SELECT * FROM df LIMIT 5;\"\n",
        "\n",
        "selected_data = sqldf(statement, globals())\n",
        "\n",
        "print(selected_data)"
      ],
      "metadata": {
        "colab": {
          "base_uri": "https://localhost:8080/"
        },
        "id": "1Q-6CgrTBdfv",
        "outputId": "d14dd7fc-17e7-4b14-ea4f-a35d2710130c"
      },
      "execution_count": 15,
      "outputs": [
        {
          "output_type": "stream",
          "name": "stdout",
          "text": [
            "     aluno  idade     cidade                 aniversario\n",
            "0     João     20  São Paulo  2002-10-04 00:00:00.000000\n",
            "1  Ribeiro     29   São João  2003-02-20 00:00:00.000000\n",
            "2   Evaldo     22     Pinhal                        None\n",
            "3   Isaias     21     Mococa  2000-04-20 00:00:00.000000\n",
            "4  Jessyca     35      Poços  1987-12-12 00:00:00.000000\n"
          ]
        }
      ]
    },
    {
      "cell_type": "code",
      "source": [
        "# Selecting name and age\n",
        "\n",
        "statement = \"SELECT aluno, idade FROM df LIMIT 5;\"\n",
        "\n",
        "selected_data = sqldf(statement, globals())\n",
        "\n",
        "print(selected_data)"
      ],
      "metadata": {
        "colab": {
          "base_uri": "https://localhost:8080/"
        },
        "id": "EZhrXoghBlWs",
        "outputId": "d18ff841-0321-40a0-ae7c-1efa847838a0"
      },
      "execution_count": 16,
      "outputs": [
        {
          "output_type": "stream",
          "name": "stdout",
          "text": [
            "     aluno  idade\n",
            "0     João     20\n",
            "1  Ribeiro     29\n",
            "2   Evaldo     22\n",
            "3   Isaias     21\n",
            "4  Jessyca     35\n"
          ]
        }
      ]
    },
    {
      "cell_type": "markdown",
      "source": [
        "Obs: The main function used in pandasql is sqldf. sqldf accepts 2 parametrs - a sql query string - an set of session/environment variables (locals() or globals())"
      ],
      "metadata": {
        "id": "yT9mrHDvC6bS"
      }
    },
    {
      "cell_type": "markdown",
      "source": [
        "# DISTINCT/ COUNT / AS"
      ],
      "metadata": {
        "id": "F_rBHptbCOh-"
      }
    },
    {
      "cell_type": "code",
      "source": [
        "# Selecting distinct cities\n",
        "\n",
        "statement = \"SELECT DISTINCT cidade FROM df;\"\n",
        "\n",
        "selected_data = sqldf(statement, globals())\n",
        "\n",
        "print(selected_data)"
      ],
      "metadata": {
        "colab": {
          "base_uri": "https://localhost:8080/"
        },
        "id": "RpXQl7UOCQ8o",
        "outputId": "e4b09ba7-2581-409f-eb24-bd9d3e6f88fe"
      },
      "execution_count": 23,
      "outputs": [
        {
          "output_type": "stream",
          "name": "stdout",
          "text": [
            "      cidade\n",
            "0  São Paulo\n",
            "1   São João\n",
            "2     Pinhal\n",
            "3     Mococa\n",
            "4      Poços\n",
            "5   Botelhos\n"
          ]
        }
      ]
    },
    {
      "cell_type": "code",
      "source": [
        "# Counting the amount of distinct cities\n",
        "\n",
        "statement = \"SELECT COUNT(DISTINCT cidade) AS num_cities FROM df;\"\n",
        "\n",
        "selected_data = sqldf(statement, globals())\n",
        "\n",
        "print(selected_data)"
      ],
      "metadata": {
        "colab": {
          "base_uri": "https://localhost:8080/"
        },
        "id": "wPHvLiMIDmon",
        "outputId": "0ed1952d-c59b-48f4-f666-f0541a1d9aa3"
      },
      "execution_count": 22,
      "outputs": [
        {
          "output_type": "stream",
          "name": "stdout",
          "text": [
            "   num_cities\n",
            "0           6\n"
          ]
        }
      ]
    },
    {
      "cell_type": "code",
      "source": [
        "# Selecting distinct combinations of two cities\n",
        "\n",
        "statement = \"SELECT DISTINCT aluno, cidade FROM df;\"\n",
        "\n",
        "selected_data = sqldf(statement, globals())\n",
        "\n",
        "print(selected_data)"
      ],
      "metadata": {
        "colab": {
          "base_uri": "https://localhost:8080/"
        },
        "id": "Bmh-d5y9EQyV",
        "outputId": "6e37db32-f0e6-4527-beda-28c5c142a184"
      },
      "execution_count": 24,
      "outputs": [
        {
          "output_type": "stream",
          "name": "stdout",
          "text": [
            "     aluno     cidade\n",
            "0     João  São Paulo\n",
            "1  Ribeiro   São João\n",
            "2   Evaldo     Pinhal\n",
            "3   Isaias     Mococa\n",
            "4  Jessyca      Poços\n",
            "5     Anne   Botelhos\n",
            "6     Luiz     Pinhal\n"
          ]
        }
      ]
    }
  ]
}